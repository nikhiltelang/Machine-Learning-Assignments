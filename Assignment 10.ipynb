{
 "cells": [
  {
   "cell_type": "markdown",
   "id": "d07229d1",
   "metadata": {},
   "source": [
    "<b>Define the Bayesian interpretation of probability.</b>"
   ]
  },
  {
   "cell_type": "markdown",
   "id": "db816d86",
   "metadata": {},
   "source": [
    "Ans: \n",
    "Bayesian probability is an interpretation of the concept of probability, in which, instead of frequency or propensity of some phenomenon, \n",
    "probability is interpreted as reasonable expectation representing a state of knowledge or as quantification of a personal belief.\n"
   ]
  },
  {
   "cell_type": "markdown",
   "id": "35c75e1f",
   "metadata": {},
   "source": [
    "<b>Define probability of a union of two events with equation.</b>"
   ]
  },
  {
   "cell_type": "markdown",
   "id": "5539bed3",
   "metadata": {},
   "source": [
    "Ans: \n",
    "The probability of the union of two events E and F (written E ∪ F \\displaystyle E\\cup F E∪F ) \n",
    "equals the sum of the probability of E and the probability of F minus the probability of E and F occurring together ( which is called the intersection of E and F and is written as E ∩ F \\displaystyle E\\cap F E∩F ).\n"
   ]
  },
  {
   "cell_type": "markdown",
   "id": "8d43754c",
   "metadata": {},
   "source": [
    "\n",
    "<b>What is joint probability? What is its formula?</b>"
   ]
  },
  {
   "cell_type": "markdown",
   "id": "c415e709",
   "metadata": {},
   "source": [
    "Ans: \n",
    "The joint probability for events A and B is calculated as the probability of event A given event B \n",
    "multiplied by the probability of event B. This can be stated formally as follows: P(A and B) = P(A given B)\n"
   ]
  },
  {
   "cell_type": "markdown",
   "id": "b64cb228",
   "metadata": {},
   "source": [
    "<b>\n",
    "What is chain rule of probability?\n",
    "</b>"
   ]
  },
  {
   "cell_type": "markdown",
   "id": "dcdd56d6",
   "metadata": {},
   "source": [
    "Ans: \n",
    "In probability theory, the chain rule permits the calculation of any member of the joint distribution of a set of random variables using only conditional probabilities.\n",
    " The rule is useful in the study of Bayesian networks, which describe a probability distribution in terms of conditional probabilities."
   ]
  },
  {
   "cell_type": "markdown",
   "id": "321d8eae",
   "metadata": {},
   "source": [
    "<b>What is conditional probability means? What is the formula of it?</b>"
   ]
  },
  {
   "cell_type": "markdown",
   "id": "290bd41e",
   "metadata": {},
   "source": [
    "Ans: \n",
    "Conditional probability is defined as the likelihood of an event or outcome occurring, based on the occurrence of a previous event or outcome. Conditional probability is \n",
    "calculated by multiplying the probability of the preceding event by the updated probability of the succeeding, or conditional, event"
   ]
  },
  {
   "cell_type": "markdown",
   "id": "41a7707b",
   "metadata": {},
   "source": [
    "<b>What are continuous random variables?</b>"
   ]
  },
  {
   "cell_type": "markdown",
   "id": "b9ab789b",
   "metadata": {},
   "source": [
    "Ans: \n",
    "A continuous random variable is one which takes an infinite number of possible values. Continuous random variables are usually measurements. Examples include height, weight,\n",
    " the amount of sugar in an orange, the time required to run a mile. (Definition taken from Valerie J.\n"
   ]
  },
  {
   "cell_type": "markdown",
   "id": "bfd67531",
   "metadata": {},
   "source": [
    "<b>What are Bernoulli distributions? What is the formula of it?</b>"
   ]
  },
  {
   "cell_type": "markdown",
   "id": "21d2b8aa",
   "metadata": {},
   "source": [
    "Ans: \n",
    "In probability theory and statistics, the Bernoulli distribution, named after Swiss mathematician Jacob Bernoulli, is the discrete probability\n",
    "distribution of a random variable which takes the value 1 with probability p and the value 0 with probability {\\displaystyle q=1-p}. "
   ]
  },
  {
   "cell_type": "markdown",
   "id": "5af12e0e",
   "metadata": {},
   "source": [
    "<b>What is binomial distribution? What is the formula?</b>"
   ]
  },
  {
   "cell_type": "markdown",
   "id": "8e7caa32",
   "metadata": {},
   "source": [
    "Ans: \n",
    "A binomial distribution can be thought of as simply the probability of a SUCCESS or FAILURE outcome in an experiment or survey that is repeated multiple times.\n"
   ]
  },
  {
   "cell_type": "markdown",
   "id": "3d6a2eaf",
   "metadata": {},
   "source": [
    "<b>What is Poisson distribution? What is the formula?</b>"
   ]
  },
  {
   "cell_type": "markdown",
   "id": "c846cc1f",
   "metadata": {},
   "source": [
    "Ans: \n",
    "The Poisson Distribution formula is: P(x; μ) = (e-μ) (μx) / x! Let's say that that x (as in the prime counting function is a very big number, like x = 10100. If you choose a random number that's less than or equal to x, \n",
    "the probability of that number being prime is about 0.43 percent.\n"
   ]
  },
  {
   "cell_type": "markdown",
   "id": "1505c525",
   "metadata": {},
   "source": [
    "<b>Define covariance.</b>"
   ]
  },
  {
   "cell_type": "markdown",
   "id": "e72d08fe",
   "metadata": {},
   "source": [
    "Ans: \n",
    "Covariance is a measure of how much two random variables vary together. It’s similar to variance,\n",
    "but where variance tells you how a single variable varies, co variance tells you how two variables vary together.\n"
   ]
  },
  {
   "cell_type": "markdown",
   "id": "0f85ef83",
   "metadata": {},
   "source": [
    "<b>Define correlation</b>"
   ]
  },
  {
   "cell_type": "markdown",
   "id": "40588e3b",
   "metadata": {},
   "source": [
    "Ans: \n",
    "In statistics, correlation or dependence is any statistical relationship, whether causal or not, between two random variables or bivariate data. In the broadest sense correlation is any statistical association,\n",
    " though it commonly refers to the degree to which a pair of variables are linearly relate\n"
   ]
  },
  {
   "cell_type": "markdown",
   "id": "2fb11a8b",
   "metadata": {},
   "source": [
    "<b>Define sampling with replacement. Give example.</b>"
   ]
  },
  {
   "cell_type": "markdown",
   "id": "0291e0f3",
   "metadata": {},
   "source": [
    "Ans: \n",
    "Sampling with replacement is used to find probability with replacement. In other words, you want to find the probability of some event where there's a number of balls, cards or other objects, and you replace the item each time you choose one.\n",
    "Let's say you had a population of 7 people, and you wanted to sample 2.\n"
   ]
  },
  {
   "cell_type": "markdown",
   "id": "85bbe140",
   "metadata": {},
   "source": [
    "<b>What is sampling without replacement? Give example.</b>"
   ]
  },
  {
   "cell_type": "markdown",
   "id": "60046bcf",
   "metadata": {},
   "source": [
    "Ans: \n",
    "In sampling without replacement, each sample unit of the population has only one chance to be selected in the sample. For example, \n",
    "if one draws a simple random sample such that no unit occurs more than one time in the sample, the sample is drawn without replacement."
   ]
  },
  {
   "cell_type": "markdown",
   "id": "a6a049b3",
   "metadata": {},
   "source": [
    "<b>What is hypothesis? Give example.</b>"
   ]
  },
  {
   "cell_type": "markdown",
   "id": "731c3548",
   "metadata": {},
   "source": [
    "Ans: \n",
    "Here are some examples of hypothesis statements: If garlic repels fleas, then a dog that is given garlic every day will not get fleas. Bacterial growth may be affected by moisture levels in the air. \n",
    "If sugar causes cavities, then people who eat a lot of candy may be more prone to cavities."
   ]
  }
 ],
 "metadata": {
  "kernelspec": {
   "display_name": "Python 3",
   "language": "python",
   "name": "python3"
  },
  "language_info": {
   "codemirror_mode": {
    "name": "ipython",
    "version": 3
   },
   "file_extension": ".py",
   "mimetype": "text/x-python",
   "name": "python",
   "nbconvert_exporter": "python",
   "pygments_lexer": "ipython3",
   "version": "3.8.8"
  }
 },
 "nbformat": 4,
 "nbformat_minor": 5
}
