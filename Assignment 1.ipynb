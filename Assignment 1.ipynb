{
 "cells": [
  {
   "cell_type": "markdown",
   "id": "f7e9592b",
   "metadata": {},
   "source": [
    "<b> 1. What does one mean by the term &quot;machine learning&quot;?</b>"
   ]
  },
  {
   "cell_type": "markdown",
   "id": "664926a0",
   "metadata": {},
   "source": [
    "Ans: Machine learning (ML) is a type of artificial intelligence (AI) that allows software applications to become more accurate at predicting outcomes without being \n",
    "explicitly programmed to do so. Machine learning algorithms use historical data as input to predict new output values.\n"
   ]
  },
  {
   "cell_type": "markdown",
   "id": "2c9dc4b1",
   "metadata": {},
   "source": [
    "<b>2.Can you think of 4 distinct types of issues where it shines?</b>"
   ]
  },
  {
   "cell_type": "markdown",
   "id": "babdd680",
   "metadata": {},
   "source": [
    "Ans: Machine learning is great for \n",
    "problems whose solution requires a great deal of work or a long list of rules,\n",
    "complex problems that are hard to get a solution of using a traditional method, fluctuating \n",
    "environments and getting insights about complex problems and large data.\n"
   ]
  },
  {
   "cell_type": "markdown",
   "id": "8177d413",
   "metadata": {},
   "source": [
    "<b>3.What is a labeled training set, and how does it work?</b>"
   ]
  },
  {
   "cell_type": "markdown",
   "id": "04a14f4b",
   "metadata": {},
   "source": [
    "Ans: Labeled training set is a set of training data which has a solution to the problem or task (a.k.a. label)."
   ]
  },
  {
   "cell_type": "markdown",
   "id": "c4c52f2e",
   "metadata": {},
   "source": [
    "<b>4.What are the two most important tasks that are supervised?</b>"
   ]
  },
  {
   "cell_type": "markdown",
   "id": "9bc256ac",
   "metadata": {},
   "source": [
    "Ans: Two most common supervised tasks are classification and regression.\n"
   ]
  },
  {
   "cell_type": "markdown",
   "id": "6ea9c829",
   "metadata": {},
   "source": [
    "<b>5.Can you think of four examples of unsupervised tasks?</b>"
   ]
  },
  {
   "cell_type": "markdown",
   "id": "64042f3d",
   "metadata": {},
   "source": [
    "Ans: Four common unsupervised tasks inclused clustering, visualization, dimensionality reduction , and association rule learning.\n"
   ]
  },
  {
   "cell_type": "markdown",
   "id": "d5c3270b",
   "metadata": {},
   "source": [
    "<b>6.State the machine learning model that would be best to make a robot walk through various unfamiliar terrains?</b>"
   ]
  },
  {
   "cell_type": "markdown",
   "id": "470dc0e9",
   "metadata": {},
   "source": [
    "Ans: The best Machine Learning algorithm to allow a robot to walk in unknown terrain is Reinforced Learning, \n",
    "where the robot can learn from response of the terrain to optimize itself."
   ]
  },
  {
   "cell_type": "markdown",
   "id": "12ddf259",
   "metadata": {},
   "source": [
    "<b>7.Which algorithm will you use to divide your customers into different groups?</b>"
   ]
  },
  {
   "cell_type": "markdown",
   "id": "6f42aa58",
   "metadata": {},
   "source": [
    "Ans: The best algorithm to segment customers into multiple groups is either supervised \n",
    "learning (if the groups have known labels) or unsupervised learning (if there are no group labels).\n"
   ]
  },
  {
   "cell_type": "markdown",
   "id": "3e1649e3",
   "metadata": {},
   "source": [
    "<b>8.Will you consider the problem of spam detection to be a supervised or unsupervised learning problem?</b>"
   ]
  },
  {
   "cell_type": "markdown",
   "id": "2bd630b9",
   "metadata": {},
   "source": [
    "ans: \n",
    "Spam detection is a supervised learning problem because the labels are known (spam or no spam)."
   ]
  },
  {
   "cell_type": "markdown",
   "id": "6a407d1d",
   "metadata": {},
   "source": [
    "<b>9.What is the concept of an online learning system?</b>"
   ]
  },
  {
   "cell_type": "markdown",
   "id": "96d7634f",
   "metadata": {},
   "source": [
    "Ans: Online learning system is a learning system in which the machine learns as data is given in small streams continuously."
   ]
  },
  {
   "cell_type": "markdown",
   "id": "a54dc98c",
   "metadata": {},
   "source": [
    "<b>10.What is out-of-core learning, and how does it differ from core learning?</b>"
   ]
  },
  {
   "cell_type": "markdown",
   "id": "bc2c793a",
   "metadata": {},
   "source": [
    "Ans: Out-of-core learning system is a system that can handle data that cannot fit into your computer memory. It uses online learning system to feed data in small bits."
   ]
  },
  {
   "cell_type": "markdown",
   "id": "0eb52109",
   "metadata": {},
   "source": [
    "<b>11.What kind of learning algorithm makes predictions using a similarity measure?</b>"
   ]
  },
  {
   "cell_type": "markdown",
   "id": "c4afa619",
   "metadata": {},
   "source": [
    "Ans: Learning algorithm that relies on a similarity measure to make predictions is instance-based algorithm.\n"
   ]
  },
  {
   "cell_type": "markdown",
   "id": "650a99c1",
   "metadata": {},
   "source": [
    "<b>12.What's the difference between a model parameter and a hyperparameter in a learning algorithm?</b>"
   ]
  },
  {
   "cell_type": "markdown",
   "id": "9cada5ca",
   "metadata": {},
   "source": [
    "Ans: \n",
    "Model parameter determines how a model will predict given a new instance; \n",
    "model usually has more than one parameter (i.e. slope of a linear model). Hyperparameter is a parameter for the learning algorithm, not of a model.\n"
   ]
  },
  {
   "cell_type": "markdown",
   "id": "4dc19025",
   "metadata": {},
   "source": [
    "<b>13.What are the criteria that model-based learning algorithms look for? What is the most popular method they use to achieve success? What method do they use to make predictions?</b>"
   ]
  },
  {
   "cell_type": "markdown",
   "id": "7881d6d7",
   "metadata": {},
   "source": [
    "Ans: Model based learning algorithm search for the optimal\n",
    " value of parameters in a model that will give the best results for the new instances. \n",
    " We often use a cost function or similar to determine what the parameter value has to be in order to minimize the function. The model makes prediction by using the value of the new instance and the parameters in its function.\n",
    "\n"
   ]
  },
  {
   "cell_type": "markdown",
   "id": "b4c94c26",
   "metadata": {},
   "source": [
    "<b>14.Can you name four of the most important Machine Learning challenges?</b>"
   ]
  },
  {
   "cell_type": "markdown",
   "id": "e67b1d65",
   "metadata": {},
   "source": [
    "Ans: Four main challenges in Machine Learning include overfitting the data (using a model too complicated), \n",
    "underfitting the data (using a simple model), lacking in data and nonrepresentative data.\n"
   ]
  },
  {
   "cell_type": "markdown",
   "id": "3b00b8d2",
   "metadata": {},
   "source": [
    "<b>15.What happens if the model performs well on the training data but fails to generalize the results to new situations? Can you think of three different options?</b>"
   ]
  },
  {
   "cell_type": "markdown",
   "id": "2cbfd07d",
   "metadata": {},
   "source": [
    "ans: \n",
    "If the model performs poorly to new instances, then it has overfit on the training data. To solve this, we can do any of the following three: get more data, implement a simpler model, or eliminate outliers or noise from the existing data set.\n"
   ]
  },
  {
   "cell_type": "markdown",
   "id": "1b27806b",
   "metadata": {},
   "source": [
    "<b>16.What exactly is a test set, and why would you need one?</b>"
   ]
  },
  {
   "cell_type": "markdown",
   "id": "4d76913d",
   "metadata": {},
   "source": [
    "Ans: Test set is a set that you test your model (fit using training data) to see how it performs. Test set is necessary so that you can determine how good (or bad) your model performs.\n",
    "\n"
   ]
  },
  {
   "cell_type": "markdown",
   "id": "87bdf858",
   "metadata": {},
   "source": [
    "<b>17.What is a validation set's purpose?</b>"
   ]
  },
  {
   "cell_type": "markdown",
   "id": "65e9c869",
   "metadata": {},
   "source": [
    "Ans: Validation set is a set used to compare between different training models.\n"
   ]
  },
  {
   "cell_type": "markdown",
   "id": "446f9da4",
   "metadata": {},
   "source": [
    "<b>18.What precisely is the train-dev kit, when will you need it, how do you put it to use?</b>"
   ]
  },
  {
   "cell_type": "markdown",
   "id": "8d71cadd",
   "metadata": {},
   "source": [
    "Ans: Cross-validation is a tool to compare models without needing a separate validation set. It is preferred over validation set because we can save from breaking of part of the training set to create a validation set, as having more data is valuable regardless."
   ]
  },
  {
   "cell_type": "markdown",
   "id": "44ee921c",
   "metadata": {},
   "source": [
    "<b>19.What could go wrong if you use the test set to tune hyperparameters?</b>"
   ]
  },
  {
   "cell_type": "markdown",
   "id": "889cb7cd",
   "metadata": {},
   "source": [
    "Ans: If you tune hyperparameters using the test sets, then it may not perform well on the out-of-sample data because the model is tuned just for that specific set."
   ]
  }
 ],
 "metadata": {
  "kernelspec": {
   "display_name": "Python 3",
   "language": "python",
   "name": "python3"
  },
  "language_info": {
   "codemirror_mode": {
    "name": "ipython",
    "version": 3
   },
   "file_extension": ".py",
   "mimetype": "text/x-python",
   "name": "python",
   "nbconvert_exporter": "python",
   "pygments_lexer": "ipython3",
   "version": "3.8.8"
  }
 },
 "nbformat": 4,
 "nbformat_minor": 5
}
