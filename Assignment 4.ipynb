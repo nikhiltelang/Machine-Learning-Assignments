{
 "cells": [
  {
   "cell_type": "markdown",
   "id": "f0d8c8fe",
   "metadata": {},
   "source": [
    "<b>1. What are the key tasks involved in getting ready to work with machine learning modeling?</b>"
   ]
  },
  {
   "cell_type": "markdown",
   "id": "ad38c88c",
   "metadata": {},
   "source": [
    "Ans: \n",
    "step1:  Prepare the data\n",
    "This is a good time to visualize your data and check if there are correlations between the different characteristics that we obtained. It will be necessary to make a selection of characteristics since the ones you choose will directly impact the execution times and the results. You can also reduce dimensions by applying PCA if necessary.\n",
    "\n",
    "step2 : Choose the model\n",
    "There are several models that you can choose according to the objective that you might have: you will use algorithms of classification, prediction, linear regression, clustering, i.e. k-means or K-Nearest Neighbor, Deep Learning, i.e Neural Networks, Bayesian, etc.\n",
    "\n",
    "There are various models to be used depending on the data you are going to process such as images, sound, text, and numerical values. In the following table, we will see some models and their applications that you can apply in your projects:\n",
    "\n",
    "\n",
    "step3: Train your machine model\n",
    "You will need to train the datasets to run smoothly and see an incremental improvement in the prediction rate. Remember to initialize the weights of your model randomly -the weights are the values that multiply or affect the relationships between the inputs \n",
    "and outputs- which will be automatically adjusted by the selected algorithm the more you train them.\n",
    "\n",
    "\n",
    "step4: Evaluation\n",
    "You will have to check the machine created against your evaluation data set that contains inputs that the model does not know and verify the precision of your already trained model. If the accuracy is less than or equal to 50%, that model will not be useful since it would be like tossing a coin to make decisions.\n",
    "If you reach 90% or more, you can have good confidence in the results that the model gives you.\n",
    "\n",
    "step5: Parameter Tuning\n",
    "If during the evaluation you did not obtain good predictions and your precision is not the minimum desired, it is possible that you have overfitting -or underfitting problems and you must return to the training step before making a new configuration of parameters in your model. You can increase the number of times you iterate your training data- termed epochs. Another important parameter is the one known as the “learning rate”, which is usually \n",
    "a value that multiplies the gradient to gradually bring it closer to the global -or local- minimum to minimize the cost of the function.\n",
    "\n",
    "step6 : Prediction or Inference"
   ]
  },
  {
   "cell_type": "markdown",
   "id": "82592d46",
   "metadata": {},
   "source": [
    "<b>2. What are the different forms of data used in machine learning? Give a specific example for each of them.</b>"
   ]
  },
  {
   "cell_type": "markdown",
   "id": "e637fbc4",
   "metadata": {},
   "source": [
    "Ans: Numerical Data   : Numerical data is any data where data points are exact numbers. Statisticians also might call numerical data, quantitative data. This data has meaning as a measurement such as house prices or as a count, such as a number of residential properties in Los Angeles or how many houses sold in the past year.\n",
    "Categorical Data :  Categorical data represents characteristics, such as a hockey player’s position, team, hometown. Categorical data can take numerical values. For example, maybe we would use 1 for the colour red and 2 for blue. But these numbers don’t have a mathematical meaning. That is, we can’t add them together or take the average.\n",
    "Time Series Data:   Time series data is a sequence of numbers collected at regular intervals over some period of time. It is very important, especially in particular fields like finance. Time series data has a temporal value attached to it, so this would be something like a date or a timestamp that you can look for trends in time.\n",
    "Text : Text data is basically just words. A lot of the time the first thing that you do with text is you turn it into numbers using some interesting functions like the bag of words formulation."
   ]
  },
  {
   "cell_type": "markdown",
   "id": "dedfb7f0",
   "metadata": {},
   "source": [
    "<b>3. Distinguish:\n",
    "\n",
    "           1. Numeric vs. categorical attributes\n",
    "\n",
    "            2. Feature selection vs. dimensionality reduction</b>"
   ]
  },
  {
   "cell_type": "markdown",
   "id": "a7bcd39b",
   "metadata": {},
   "source": [
    "Ans: 1) ategorical data is also called qualitative data while numerical data is also called quantitative data. Numerical data is used to express quantitative values and can also perform arithmetic operations which is a \n",
    "quantitative characteristic. Both numerical and categorical data have other names that depict their meaning.\n",
    "\n",
    "2. Feature selection vs. dimensionality reduction: While both methods are used for reducing the number of features in a dataset, there is an important difference. Feature selection is simply selecting and excluding given features without changing them. \n",
    "Dimensionality reduction transforms features into a lower dimension"
   ]
  },
  {
   "cell_type": "markdown",
   "id": "fcb35501",
   "metadata": {},
   "source": [
    "<b>4. Make quick notes on any two of the following:\n",
    "\n",
    "            1. The histogram\n",
    "\n",
    "             2. Use a scatter plot\n",
    "\n",
    "              3.PCA (Personal Computer Aid)</b>"
   ]
  },
  {
   "cell_type": "markdown",
   "id": "b48f0aeb",
   "metadata": {},
   "source": [
    "Ans: 1. The histogram : A histogram is an approximate representation of the distribution of numerical data. It was first introduced by Karl Pearson.\n",
    "Use a histogram when:\n",
    "\n",
    "The data are numerical\n",
    "You want to see the shape of the data’s distribution, especially when determining whether the output of a process is distributed approximately normally\n",
    "Analyzing whether a process can meet the customer’s requirements\n",
    "Analyzing what the output from a supplier’s process looks like\n",
    "Seeing whether a process change has occurred from one time period to another\n",
    "Determining whether the outputs of two or more processes are different\n",
    "You wish to communicate the distribution of data quickly and easily to others\n",
    "\n",
    "2. Use a scatter plot: Scatter plots' primary uses are to observe and show relationships between two numeric variables. The dots in a scatter plot not only report the values of individual data points, but also patterns when the data are taken as a whole. Identification of correlational relationships are common with scatter plots"
   ]
  },
  {
   "cell_type": "markdown",
   "id": "cb9fa01a",
   "metadata": {},
   "source": [
    "<b>5. Why is it necessary to investigate data? Is there a discrepancy in how qualitative and quantitative data are explored?\n",
    "</b>"
   ]
  },
  {
   "cell_type": "markdown",
   "id": "a4fdf8fb",
   "metadata": {},
   "source": [
    "Ans: Collecting data allows you to store and analyze important information about your existing and potential customers. Collecting this information can also save your company money by building a database of customers for future marketing and retargeting efforts. You no longer need to cast a “wide net” to reach potential consumers within your target audience. \n",
    "You can focus your marketing efforts and dollars on those with the highest propensity to take action."
   ]
  },
  {
   "cell_type": "markdown",
   "id": "25c1878a",
   "metadata": {},
   "source": [
    "<b>\n",
    "6. What are the various histogram shapes? What exactly are ‘bins'?</b>"
   ]
  },
  {
   "cell_type": "markdown",
   "id": "dcc1d509",
   "metadata": {},
   "source": [
    "Ans: A histogram is a chart that plots the distribution of a numeric variable's values as a series of bars. Each bar typically covers a range of numeric values called a bin or class; a bar's \n",
    "height indicates the frequency of data points with a value within the corresponding bin."
   ]
  },
  {
   "cell_type": "markdown",
   "id": "a9f71455",
   "metadata": {},
   "source": [
    "<b>7. How do we deal with data outliers?</b>"
   ]
  },
  {
   "cell_type": "markdown",
   "id": "3ced62d0",
   "metadata": {},
   "source": [
    "Ans: 1. Set up a filter in your testing tool\n",
    "2. Remove or change outliers during post-test analysis\n",
    "3. Change the value of outliers\n",
    "4. Consider the underlying distribution\n",
    "5. Consider the value of mild outliers"
   ]
  },
  {
   "cell_type": "markdown",
   "id": "a693eadf",
   "metadata": {},
   "source": [
    "<b></b>"
   ]
  }
 ],
 "metadata": {
  "kernelspec": {
   "display_name": "Python 3",
   "language": "python",
   "name": "python3"
  },
  "language_info": {
   "codemirror_mode": {
    "name": "ipython",
    "version": 3
   },
   "file_extension": ".py",
   "mimetype": "text/x-python",
   "name": "python",
   "nbconvert_exporter": "python",
   "pygments_lexer": "ipython3",
   "version": "3.8.8"
  }
 },
 "nbformat": 4,
 "nbformat_minor": 5
}
