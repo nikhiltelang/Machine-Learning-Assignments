{
 "cells": [
  {
   "cell_type": "markdown",
   "id": "3ad53f80",
   "metadata": {},
   "source": [
    "<b>1. What is your definition of clustering? What are a few clustering algorithms you might think of?</b>"
   ]
  },
  {
   "cell_type": "markdown",
   "id": "b0c0c2c9",
   "metadata": {},
   "source": [
    "Ans: \n",
    "Clustering is the task of dividing the population or data points into a number of groups such that data points in the same groups are more similar to other data points in the same group than those in other groups.\n",
    " In simple words, the aim is to segregate groups with similar traits and assign them into clusters.\n"
   ]
  },
  {
   "cell_type": "markdown",
   "id": "b5cfa233",
   "metadata": {},
   "source": [
    "<b>2. What are some of the most popular clustering algorithm applications?</b>"
   ]
  },
  {
   "cell_type": "markdown",
   "id": "d57a1465",
   "metadata": {},
   "source": [
    "Ans: \n",
    "K-Means Algorithm. The most commonly used algorithm, K-means clustering, is a centroid-based algorithm. \n",
    "Mean-Shift Algorithm. \n",
    "DBSCAN Algorithm. \n",
    "Expectation-Maximization Clustering using Gaussian Mixture Models. \n",
    "Agglomerative Hierarchical Algorithm.\n"
   ]
  },
  {
   "cell_type": "markdown",
   "id": "26a74c1c",
   "metadata": {},
   "source": [
    "<b>3. When using K-Means, describe two strategies for selecting the appropriate number of clusters.</b>"
   ]
  },
  {
   "cell_type": "markdown",
   "id": "407e322f",
   "metadata": {},
   "source": [
    "Ans: \n",
    "Naïve (K-means) Approach\n",
    "Partitioning clustering methods, like k-means and Partitioning Around Medoids (PAM), require that you specify the number of clusters to be generated.\n",
    "Clustree\n",
    "The statistical method above produce a single score that only considers a single set of clusters at a time. The clustree R package takes an alternative approach by considering how samples change groupings as the number of clusters increases. This is useful for showing which clusters are distinct and which are unstable. It doesn’t explicitly tell you which choice of optimal clusters is but it is useful for exploring possible choices."
   ]
  },
  {
   "cell_type": "markdown",
   "id": "4aecb2e8",
   "metadata": {},
   "source": [
    "<b>4. What is mark propagation and how does it work? Why would you do it, and how would you do it?</b>"
   ]
  },
  {
   "cell_type": "markdown",
   "id": "9f89cbb1",
   "metadata": {},
   "source": [
    "Ans: \n",
    "The algorithm is used to effectively train a neural network through a method called chain rule. In simple terms, after each forward pass through a network, backpropagation performs a backward pass while adjusting the model’s parameters (weights and biases).\n"
   ]
  },
  {
   "cell_type": "markdown",
   "id": "1d90013d",
   "metadata": {},
   "source": [
    "<b>5. Provide two examples of clustering algorithms that can handle large datasets. And two that look for high-density areas?\n",
    "</b>"
   ]
  },
  {
   "cell_type": "markdown",
   "id": "abd56d37",
   "metadata": {},
   "source": [
    "<b></b>"
   ]
  },
  {
   "cell_type": "markdown",
   "id": "469b6d94",
   "metadata": {},
   "source": [
    "<b>6. Can you think of a scenario in which constructive learning will be advantageous? How can you go about putting it into action?</b>"
   ]
  },
  {
   "cell_type": "markdown",
   "id": "bd0cfa90",
   "metadata": {},
   "source": [
    "Ans: \n",
    "Constructivism is the theory that says learners construct knowledge rather than just passively take in information. As people experience the world and reflect upon those experiences, they build their own representations and incorporate new information into their pre-existing knowledge (schemas).\n",
    "\n",
    "Related to this are the processes of assimilation and accommodation.\n",
    "\n",
    "Assimilation refers to the process of taking new information and fitting it into an existing schema.\n",
    "Accommodation refers to using newly acquired information to revise and redevelop an existing schema.\n",
    "For example, if I believe that friends are always nice, and meet a new person who is always nice to me I may call this person a friend, assimilating them into my schema. Perhaps, however, I meet a different person who sometimes pushes me to try harder and is not always nice. I may decide to change my schema to accommodate this person by deciding a friend doesn’t always need to be nice if they have my best interests in mind. Further, this may make me reconsider whether the first person still fits into my friend schema."
   ]
  },
  {
   "cell_type": "markdown",
   "id": "eb4bb2b5",
   "metadata": {},
   "source": [
    "<b>7. How do you tell the difference between anomaly and novelty detection?</b>"
   ]
  },
  {
   "cell_type": "markdown",
   "id": "d5d4ce98",
   "metadata": {},
   "source": [
    "Ans: \n",
    "The concept of outliers starts from the issue of building a model that makes assumptions about the data. Outliers are often indicators that the model does not describe the data properly and thus we should question the results of our model or quality of our data.\n",
    "\n",
    "The concept of anomalies starts outside the theoretic world and inside the applied world: we want to look for unusual behavior in our data, sometimes motivated by the fact that we are interested in finding behavior that someone is trying to hide (like a virus in an email). The problem is that since people are trying to hide what they are doing, we don't really know what to look for. So we take a set of \"good\" data, and decide that whatever we find in our new dataset that doesn't look \"good\" is an anomaly and worth our time to checkout in more detail. Often, looking for anomalies means looking for outliers in your new data set.\n",
    " But note that these values may be very common in your new dataset, despite being rare in your old dataset!\n"
   ]
  },
  {
   "cell_type": "markdown",
   "id": "9637da15",
   "metadata": {},
   "source": [
    "<b>8. What is a Gaussian mixture, and how does it work? What are some of the things you can do about it?\n",
    "</b>"
   ]
  },
  {
   "cell_type": "markdown",
   "id": "0b73c47a",
   "metadata": {},
   "source": [
    "ANs: However, Varun Chandola tries to give a more precise meaning to the term \"anomaly\" in his anomaly detection survey. Particularly, he classifies anomalies into three categories:\n",
    "\n",
    "Point anomalies: An individual data instance can be considered as anomalous with respect to the rest of data\n",
    "Contextual Anomalies: If a data instance is anomalous in a specific context (but not otherwise)\n",
    "Collective Anomalies: If a collection of related data instances is anomalous with respect to the entire data set\n",
    "\n"
   ]
  },
  {
   "cell_type": "markdown",
   "id": "8892026c",
   "metadata": {},
   "source": [
    "<b>9. When using a Gaussian mixture model, can you name two techniques for determining the correct number of clusters?\n",
    "</b>"
   ]
  },
  {
   "cell_type": "markdown",
   "id": "68cdc0a5",
   "metadata": {},
   "source": [
    "Ans: \n",
    "Silhouette score\n",
    "This score, as clearly stated by the SKLearn developers, consider two measures:\n",
    "The mean distance between a sample and all other points in the same cluster.\n",
    "The mean distance between a sample and all other points in the next nearest cluster."
   ]
  }
 ],
 "metadata": {
  "kernelspec": {
   "display_name": "Python 3",
   "language": "python",
   "name": "python3"
  },
  "language_info": {
   "codemirror_mode": {
    "name": "ipython",
    "version": 3
   },
   "file_extension": ".py",
   "mimetype": "text/x-python",
   "name": "python",
   "nbconvert_exporter": "python",
   "pygments_lexer": "ipython3",
   "version": "3.8.8"
  }
 },
 "nbformat": 4,
 "nbformat_minor": 5
}
