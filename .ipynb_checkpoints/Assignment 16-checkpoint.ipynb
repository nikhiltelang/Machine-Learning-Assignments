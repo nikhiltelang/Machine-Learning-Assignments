{
 "cells": [
  {
   "cell_type": "markdown",
   "id": "51606b6f",
   "metadata": {},
   "source": [
    "<b>1. In a linear equation, what is the difference between a dependent variable and an independent variable?</b>"
   ]
  },
  {
   "cell_type": "markdown",
   "id": "fbc9df05",
   "metadata": {},
   "source": [
    "Ans: \n",
    "Algebraically, a linear equation typically takes the form y = mx + b, where m and b are constants, x is the independent variable, y is the dependent variable. \n",
    "The slope tells us how the dependent variable (y) changes for every one unit increase in the independent (x) variable, on average"
   ]
  },
  {
   "cell_type": "markdown",
   "id": "decd7fc5",
   "metadata": {},
   "source": [
    "<b>2. What is the concept of simple linear regression? Give a specific example.</b>"
   ]
  },
  {
   "cell_type": "markdown",
   "id": "103e297c",
   "metadata": {},
   "source": [
    "Ans: \n",
    "Regression analysis makes use of mathematical models to describe relationships. For example, suppose that height was the only determinant of body weight. Weight = 80 + 2 x (70) = 220 lbs.\n",
    " In this simple linear regression, we are examining the impact of one independent variable on the outcome.\n"
   ]
  },
  {
   "cell_type": "markdown",
   "id": "47ee445a",
   "metadata": {},
   "source": [
    "<b>3. In a linear regression, define the slope.</b>"
   ]
  },
  {
   "cell_type": "markdown",
   "id": "5c95d9be",
   "metadata": {},
   "source": [
    "Ans: \n",
    "A linear regression line has an equation of the form Y = a + bX, where X is the explanatory variable and Y is the dependent variable. \n",
    "The slope of the line is b, and a is the intercept (the value of y when x = 0).\n"
   ]
  },
  {
   "cell_type": "markdown",
   "id": "2478ea27",
   "metadata": {},
   "source": [
    "<b>4. Determine the graph's slope, where the lower point on the line is represented as (3, 2) and the higher point is represented as (2, 2).</b>"
   ]
  },
  {
   "cell_type": "markdown",
   "id": "fcf14e3b",
   "metadata": {},
   "source": [
    "<b></b>"
   ]
  },
  {
   "cell_type": "markdown",
   "id": "1d61c7c1",
   "metadata": {},
   "source": [
    "<b>5. In linear regression, what are the conditions for a positive slope?</b>"
   ]
  },
  {
   "cell_type": "markdown",
   "id": "aaecfdd1",
   "metadata": {},
   "source": [
    "Ans: \n",
    "In summary, if the slope is positive, y increases as x increases, and the function runs \"uphill\" (going left to right). If the slope is negative, \n",
    "y decreases as x increases and the function runs downhill. If the slope is zero, y does not change, thus is constant—a horizontal line.\n"
   ]
  },
  {
   "cell_type": "markdown",
   "id": "aaf3e816",
   "metadata": {},
   "source": [
    "<b>6. In linear regression, what are the conditions for a negative slope?</b>"
   ]
  },
  {
   "cell_type": "markdown",
   "id": "9a30cc87",
   "metadata": {},
   "source": [
    "Ans: \n",
    "If the slope is negative, y decreases as x increases and the function runs downhill. If the slope is zero, y does not change, thus is constant—a horizontal line.\n"
   ]
  },
  {
   "cell_type": "markdown",
   "id": "30ad2f86",
   "metadata": {},
   "source": [
    "<b>7. What is multiple linear regression and how does it work?</b>"
   ]
  },
  {
   "cell_type": "markdown",
   "id": "94a0615a",
   "metadata": {},
   "source": [
    "Ans: \n",
    "Multiple linear regression (MLR), also known simply as multiple regression, is a statistical technique that uses several explanatory variables to predict the outcome of a response variable.\n",
    " Multiple regression is an extension of linear (OLS) regression that uses just one explanatory variable.\n"
   ]
  },
  {
   "cell_type": "markdown",
   "id": "3299e6b3",
   "metadata": {},
   "source": [
    "<b>8. In multiple linear regression, define the number of squares due to error.</b>"
   ]
  },
  {
   "cell_type": "markdown",
   "id": "8db775f8",
   "metadata": {},
   "source": [
    "Ans: \n",
    "Sum of squares (SS) is a statistical tool that is used to identify the dispersion of data as well as how well the data can fit the model in regression analysis.\n",
    " The sum of squares got its name because it is calculated by finding the sum of the squared differences.\n"
   ]
  },
  {
   "cell_type": "markdown",
   "id": "dd76a712",
   "metadata": {},
   "source": [
    "<b>10.In a regression equation, what is multicollinearity?</b>"
   ]
  },
  {
   "cell_type": "markdown",
   "id": "81f2c4d2",
   "metadata": {},
   "source": [
    "Ans: \n",
    "Multicollinearity occurs when two or more independent variables are highly correlated with one another in a regression model. \n",
    "This means that an independent variable can be predicted from another independent variable in a regression model\n"
   ]
  },
  {
   "cell_type": "markdown",
   "id": "6de4c836",
   "metadata": {},
   "source": [
    "<b>11. What is heteroskedasticity, and what does it mean?</b>"
   ]
  },
  {
   "cell_type": "markdown",
   "id": "981924f2",
   "metadata": {},
   "source": [
    "Ans: \n",
    "In statistics, a vector of random variables is heteroscedastic if the variability of the random disturbance is different across elements of the vector. Here, variability could be \n",
    "quantified by the variance or any other measure of statistical dispersion. Thus heteroscedasticity is the absence of homoscedasticity."
   ]
  },
  {
   "cell_type": "markdown",
   "id": "04c61b8d",
   "metadata": {},
   "source": [
    "<b>12. Describe the concept of ridge regression.</b>"
   ]
  },
  {
   "cell_type": "markdown",
   "id": "53984d85",
   "metadata": {},
   "source": [
    "Ans: Ridge regression is a model tuning method that is used to analyse any data that suffers from multicollinearity. This method performs L2 regularization. When the issue of multicollinearity occurs,\n",
    " least-squares are unbiased, and variances are large, this results in predicted values to be far away from the actual values.\n"
   ]
  },
  {
   "cell_type": "markdown",
   "id": "c13d214a",
   "metadata": {},
   "source": [
    "<b>13. Describe the concept of lasso regression.</b>"
   ]
  },
  {
   "cell_type": "markdown",
   "id": "e32362fa",
   "metadata": {},
   "source": [
    "Ans: \n",
    "Lasso regression is a regularization technique. It is used over regression methods for a more accurate prediction. This model uses shrinkage. Shrinkage is where data values are shrunk\n",
    " towards a central point as the mean. The lasso procedure encourages simple, sparse models (i.e. models with fewer parameters)."
   ]
  },
  {
   "cell_type": "markdown",
   "id": "d7de3d3c",
   "metadata": {},
   "source": [
    "<b>14. What is polynomial regression and how does it work?</b>"
   ]
  },
  {
   "cell_type": "markdown",
   "id": "0a979616",
   "metadata": {},
   "source": [
    "Ans:Polynomial Regression is a form of Linear regression known as a special case of Multiple linear regression which estimates the relationship as an nth degree polynomial. \n",
    "Polynomial Regression is sensitive to outliers so the presence of one or two outliers can also badly affect the performance\n"
   ]
  },
  {
   "cell_type": "markdown",
   "id": "b68b453e",
   "metadata": {},
   "source": [
    "<b>15. Describe the basis function.</b>"
   ]
  },
  {
   "cell_type": "markdown",
   "id": "5a95ba79",
   "metadata": {},
   "source": [
    "Ans:In mathematics, a basis function is an element of a particular basis for a function space. Every function in the function space can be represented as a linear combination of basis functions,\n",
    " just as every vector in a vector space can be represented as a linear combination of basis vectors.\n"
   ]
  },
  {
   "cell_type": "markdown",
   "id": "d88db813",
   "metadata": {},
   "source": [
    "<b>16. Describe how logistic regression works.</b>"
   ]
  },
  {
   "cell_type": "markdown",
   "id": "159edda2",
   "metadata": {},
   "source": [
    "Ans: \n",
    "Logistic regression measures the relationship between the categorical dependent variable and one or more independent variables by estimating probabilities using a logistic function, which is the cumulative distribution function of logistic distribution."
   ]
  }
 ],
 "metadata": {
  "kernelspec": {
   "display_name": "Python 3",
   "language": "python",
   "name": "python3"
  },
  "language_info": {
   "codemirror_mode": {
    "name": "ipython",
    "version": 3
   },
   "file_extension": ".py",
   "mimetype": "text/x-python",
   "name": "python",
   "nbconvert_exporter": "python",
   "pygments_lexer": "ipython3",
   "version": "3.8.8"
  }
 },
 "nbformat": 4,
 "nbformat_minor": 5
}
