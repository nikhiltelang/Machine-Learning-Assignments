{
 "cells": [
  {
   "cell_type": "markdown",
   "id": "3db5a690",
   "metadata": {},
   "source": [
    "<b>1. Provide an example of the concepts of Prior, Posterior, and Likelihood.</b>"
   ]
  },
  {
   "cell_type": "markdown",
   "id": "ff773f5c",
   "metadata": {},
   "source": [
    "Ans: \n",
    "The prior is a probability distribution that represents your uncertainty over  θ before you have sampled any data and attempted to estimate it - usually denoted  π(θ) .\n",
    "The posterior is a probability distribution representing your uncertainty over  θ after you have sampled data - denoted  π(θ|X) . It is a conditional distribution because it conditions on the observed data.\n",
    "\n",
    "From Bayes' theorem we relate the two:\n",
    "\n",
    "π(θ|X)=f(X|θ)π(θ)∑θif(X|θi)π(θi) \n",
    "\n",
    "Taking a step back, we widely accept that the process of having beliefs about the world, interacting with it, and then updating these beliefs is a fundamental component of learning.\n",
    "\n",
    "Well, computing the posterior from the prior with Bayes' theorem is simply a mathematical formulation of updating your beliefs. In fact, these ideas are at the core of Bayesian statistics, so it's well worth your time becoming familiar with the mechanics of working with them."
   ]
  },
  {
   "cell_type": "markdown",
   "id": "20d15205",
   "metadata": {},
   "source": [
    "<b>2. What role does Bayes' theorem play in the concept learning principle?</b>"
   ]
  },
  {
   "cell_type": "markdown",
   "id": "7841c37a",
   "metadata": {},
   "source": [
    "Ans: \n",
    "Bayes Theorem provides a principled way for calculating a conditional probability. It is a deceptively simple calculation, \n",
    "although it can be used to easily calculate the conditional probability of events where intuition often fails\n",
    "\n"
   ]
  },
  {
   "cell_type": "markdown",
   "id": "60025ab1",
   "metadata": {},
   "source": [
    "<b>3. Offer an example of how the Nave Bayes classifier is used in real life.</b>"
   ]
  },
  {
   "cell_type": "markdown",
   "id": "1277defe",
   "metadata": {},
   "source": [
    "Ans: \n",
    "As this algorithm is fast and efficient, you can use it to make real-time predictions. This algorithm is popular for multi-class predictions. \n",
    "Email services (like Gmail) use this algorithm to figure out whether an email is a spam or not.\n"
   ]
  },
  {
   "cell_type": "markdown",
   "id": "2622e3e9",
   "metadata": {},
   "source": [
    "<b>4. Can the Nave Bayes classifier be used on continuous numeric data? If so, how can you go about doing it?</b>"
   ]
  },
  {
   "cell_type": "markdown",
   "id": "e15bb215",
   "metadata": {},
   "source": [
    "Ans: \n",
    " how do we perform classification using Naive Bayes when the data we have is continuous in nature. If an instance in test data set has a category that was not present during training then it will assign it “Zero” probability and won't be able to make prediction. \n",
    "It skews the whole performance of the classification.\n"
   ]
  },
  {
   "cell_type": "markdown",
   "id": "ba05b431",
   "metadata": {},
   "source": [
    "<b>5. What are Bayesian Belief Networks, and how do they work? What are their applications? Are they capable of resolving a wide range of issues?</b>"
   ]
  },
  {
   "cell_type": "markdown",
   "id": "92c12742",
   "metadata": {},
   "source": [
    "Ans: \n",
    "Bayesian networks are a probabilistic graphical model that explicitly capture the known conditional dependence with directed edges in a graph"
   ]
  },
  {
   "cell_type": "markdown",
   "id": "8c1ade4a",
   "metadata": {},
   "source": [
    "<b>6. Passengers are checked in an airport screening system to see if there is an intruder. Let I be the random variable that indicates whether someone is an intruder I = 1) or not I = 0), and A be the variable that indicates alarm I = 0). If an intruder is detected with probability P(A = 1|I = 1) = 0.98 and a non-intruder is detected with probability P(A = 1|I = 0) = 0.001, an alarm will be triggered, implying the error factor. The likelihood of an intruder in the passenger population is P(I = 1) = 0.00001. What are the chances that an alarm would be triggered when an individual is actually an intruder?\n",
    "</b>"
   ]
  },
  {
   "cell_type": "markdown",
   "id": "ff37de5e",
   "metadata": {},
   "source": [
    "<b></b>"
   ]
  },
  {
   "cell_type": "markdown",
   "id": "9474b362",
   "metadata": {},
   "source": [
    "<b>7. An antibiotic resistance test (random variable T) has 1% false positives (i.e., 1% of those who are not immune to an antibiotic display a positive result in the test) and 5% false negatives (i.e., 1% of those who are not resistant to an antibiotic show a positive result in the test) (i.e. 5 percent of those actually resistant to an antibiotic test negative). Assume that 2% of those who were screened were antibiotic-resistant. Calculate the likelihood that a person who tests positive is actually immune (random variable D).</b>"
   ]
  },
  {
   "cell_type": "markdown",
   "id": "bcc5334f",
   "metadata": {},
   "source": [
    "<b></b>"
   ]
  },
  {
   "cell_type": "markdown",
   "id": "bd5bda30",
   "metadata": {},
   "source": [
    "<b>8. In order to prepare for the test, a student knows that there will be one question in the exam that is either form A, B, or C. The chances of getting an A, B, or C on the exam are 30 percent, 20%, and 50 percent, respectively. During the planning, the student solved 9 of 10 type A problems, 2 of 10 type B problems, and 6 of 10 type C problems.\n",
    "\n",
    "         1. What is the likelihood that the student can solve the exam problem?\n",
    "\n",
    "         2. Given the student's solution, what is the likelihood that the problem was of form A?</b>"
   ]
  },
  {
   "cell_type": "markdown",
   "id": "6aebb9e3",
   "metadata": {},
   "source": [
    "<b></b>"
   ]
  },
  {
   "cell_type": "markdown",
   "id": "2676e881",
   "metadata": {},
   "source": [
    "<b>9. A bank installs a CCTV system to track and photograph incoming customers. Despite the constant influx of customers, we divide the timeline into 5 minute bins. There may be a customer coming into the bank with a 5% chance in each 5-minute time period, or there may be no customer (again, for simplicity, we assume that either there is 1 customer or none, not the case of multiple customers). If there is a client, the CCTV will detect them with a 99 percent probability. If there is no customer, the camera can take a false photograph with a 10% chance of detecting movement from other objects.\n",
    "\n",
    "                1. How many customers come into the bank on a daily basis (10 hours)?\n",
    "\n",
    "                2. On a daily basis, how many fake photographs (photographs taken when there is no customer) and how many missed photographs (photographs taken when there is a customer) are there?\n",
    "\n",
    "                3. Explain likelihood that there is a customer if there is a photograph?\n",
    "</b>"
   ]
  },
  {
   "cell_type": "markdown",
   "id": "d5025045",
   "metadata": {},
   "source": [
    "<b></b>"
   ]
  },
  {
   "cell_type": "markdown",
   "id": "dae8308a",
   "metadata": {},
   "source": [
    "<b>10. Create the conditional probability table associated with the node Won Toss in the Bayesian Belief network to represent the conditional independence assumptions of the Nave Bayes classifier for the match winning prediction problem in Section 6.4.4.</b>"
   ]
  },
  {
   "cell_type": "markdown",
   "id": "16eaaae7",
   "metadata": {},
   "source": [
    "<b></b>"
   ]
  },
  {
   "cell_type": "markdown",
   "id": "a194c2ae",
   "metadata": {},
   "source": [
    "<b></b>"
   ]
  },
  {
   "cell_type": "markdown",
   "id": "eece6f1c",
   "metadata": {},
   "source": [
    "<b></b>"
   ]
  },
  {
   "cell_type": "markdown",
   "id": "a1e7b74c",
   "metadata": {},
   "source": [
    "<b></b>"
   ]
  },
  {
   "cell_type": "markdown",
   "id": "a7784923",
   "metadata": {},
   "source": [
    "<b></b>"
   ]
  },
  {
   "cell_type": "markdown",
   "id": "4418e46f",
   "metadata": {},
   "source": [
    "<b></b>"
   ]
  },
  {
   "cell_type": "markdown",
   "id": "7f12b372",
   "metadata": {},
   "source": [
    "<b></b>"
   ]
  }
 ],
 "metadata": {
  "kernelspec": {
   "display_name": "Python 3",
   "language": "python",
   "name": "python3"
  },
  "language_info": {
   "codemirror_mode": {
    "name": "ipython",
    "version": 3
   },
   "file_extension": ".py",
   "mimetype": "text/x-python",
   "name": "python",
   "nbconvert_exporter": "python",
   "pygments_lexer": "ipython3",
   "version": "3.8.8"
  }
 },
 "nbformat": 4,
 "nbformat_minor": 5
}
