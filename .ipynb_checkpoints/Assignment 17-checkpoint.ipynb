{
 "cells": [
  {
   "cell_type": "markdown",
   "id": "c6997439",
   "metadata": {},
   "source": [
    "<b>1. Using a graph to illustrate slope and intercept, define basic linear regression.</b>"
   ]
  },
  {
   "cell_type": "markdown",
   "id": "b8d4adb2",
   "metadata": {},
   "source": [
    "<b></b>"
   ]
  },
  {
   "cell_type": "markdown",
   "id": "023bc2cf",
   "metadata": {},
   "source": [
    "<b>2. In a graph, explain the terms rise, run, and slope.</b>"
   ]
  },
  {
   "cell_type": "markdown",
   "id": "74353d91",
   "metadata": {},
   "source": [
    "Ans: \n",
    "A slope of 1 on a graph goes through points (1,1), (2,2), (3,3), … (n,n), (-1,-1),(-2,-2),(-3,-3),…(-n,-n). To determine the slope from a graph, see how many points/grids it takes to go straight up (rise) and then straight across (run) to again be on the line. The rise must equal the run\n",
    " (for a slope of 1), and both points must be either positive/positive or negative/negative to have a slope of positive 1.\n",
    "3. Use a graph to demonstrate slope, linear positive slope, and linear negative slope, as well as the different conditions that contribute to the slope."
   ]
  },
  {
   "cell_type": "markdown",
   "id": "ae0ebbdf",
   "metadata": {},
   "source": [
    "<b>4. Use a graph to demonstrate curve linear negative slope and curve linear positive slope.</b>"
   ]
  },
  {
   "cell_type": "markdown",
   "id": "7363f667",
   "metadata": {},
   "source": [
    "<b></b>"
   ]
  },
  {
   "cell_type": "markdown",
   "id": "9dd7ba89",
   "metadata": {},
   "source": [
    "<b>7. Provide a step-by-step explanation of the OLS algorithm.</b>"
   ]
  },
  {
   "cell_type": "markdown",
   "id": "99afd40c",
   "metadata": {},
   "source": [
    "Ans: \n",
    "OLS chooses the parameters of a linear function of a set of explanatory variables by the principle of least squares: minimizing the sum of the squares of the differences between the observed dependent variable \n",
    "(values of the variable being observed) in the given dataset and those predicted by the linear function of the independent variable."
   ]
  },
  {
   "cell_type": "markdown",
   "id": "0275a674",
   "metadata": {},
   "source": [
    "<b>8. What is the regression's standard error? To represent the same, make a graph.</b>"
   ]
  },
  {
   "cell_type": "markdown",
   "id": "e79582d7",
   "metadata": {},
   "source": [
    "ANs: \n",
    "In statistics, the reduced chi-square statistic is used extensively in goodness of fit testing. It is also known as \n",
    "mean squared weighted deviation in isotopic dating and variance of unit weight in the context of weighted least squares\n"
   ]
  },
  {
   "cell_type": "markdown",
   "id": "341c3552",
   "metadata": {},
   "source": [
    "<b>9. Provide an example of multiple linear regression.</b>"
   ]
  },
  {
   "cell_type": "markdown",
   "id": "254465ae",
   "metadata": {},
   "source": [
    "Ans: \n",
    "As an example, an analyst may want to know how the movement of the market affects the price of ExxonMobil (XOM). In this case, their linear equation will have the \n",
    "value of the S&P 500 index as the independent variable, or predictor, and the price of XOM as the dependent variable.\n"
   ]
  },
  {
   "cell_type": "markdown",
   "id": "1b20c788",
   "metadata": {},
   "source": [
    "<b>10. Describe the regression analysis assumptions and the BLUE principle.</b>"
   ]
  },
  {
   "cell_type": "markdown",
   "id": "ce9ab911",
   "metadata": {},
   "source": [
    "Ans: \n",
    "The term “linear regression” is not well defined and does not specify a unique objective function. Admittedly, I typically let this issue slide a bit; when folks colloquially say “linear regression”, I assume they are referring to OLS Linear Regression. However, in the interest of being well specified in our language, we should explicitly refer to OLS by name.\n",
    "The question “what assumptions are required for OLS Linear Regression” is still an ill-posed and unanswerable question. Why? Because we have not explicitly specified what we want to use the OLS Linear Regression for, nor what requirements we need from it? For example:"
   ]
  },
  {
   "cell_type": "markdown",
   "id": "7bd051c9",
   "metadata": {},
   "source": [
    "<b>11. Describe two major issues with regression analysis.</b>"
   ]
  },
  {
   "cell_type": "markdown",
   "id": "ab335f81",
   "metadata": {},
   "source": [
    "Ans: \n",
    "there is some or much non-linear (curvilinear) dependence. This can easily be overlooked when the curvilinearity isn’t extreme, \n",
    "and that particularly can lead to really bad predictions when extrapolating outside the range of data in the analysis.\n"
   ]
  },
  {
   "cell_type": "markdown",
   "id": "d1cd096c",
   "metadata": {},
   "source": [
    "<b>12. How can the linear regression model's accuracy be improved?</b>"
   ]
  },
  {
   "cell_type": "markdown",
   "id": "3fd69f9f",
   "metadata": {},
   "source": [
    "Ans: \n",
    "Having more data is always a good idea. It allows the “data to tell for itself,” instead of relying on assumptions and weak correlations. Presence of more data results in better and accurate models.\n"
   ]
  },
  {
   "cell_type": "markdown",
   "id": "87388967",
   "metadata": {},
   "source": [
    "<b>13. Using an example, describe the polynomial regression model in detail.</b>"
   ]
  },
  {
   "cell_type": "markdown",
   "id": "295ba1e5",
   "metadata": {},
   "source": [
    "Ans: \n",
    "Matrix Multiplication\n",
    "\n",
    "Consider a set of n+1 data points {(x0, y0), (x1, y1)... }which you want to regress to a polynomial of degree n. Let matrix A be the matrix:\n",
    "1 x0 x0^2 ... x0^n\n",
    "1 x1 x1^2 ... x1^n\n",
    "...\n",
    "1 x(n+1) x(n+1)^2 ... x(n+1)^n\n",
    "\n",
    "Let matrix B be the column vector of the Y values.\n",
    "\n",
    "You wish to solve for the column vector of coefficients of your polynomial, call this vector x.\n",
    "\n",
    "Noting that Ax=B, solving for x, we perform polynomial regression on the set.\n"
   ]
  },
  {
   "cell_type": "markdown",
   "id": "6dc218c0",
   "metadata": {},
   "source": [
    "<b>14. Provide a detailed explanation of logistic regression.</b>"
   ]
  },
  {
   "cell_type": "markdown",
   "id": "cc98c902",
   "metadata": {},
   "source": [
    "Ans: \n",
    "Logistic regression is a statistical analysis method used to predict a data value based on prior observations of a data set.\n",
    "Based on historical data about earlier outcomes involving the same input criteria, it then scores new cases on their probability of falling into a particular outcome category.\n"
   ]
  },
  {
   "cell_type": "markdown",
   "id": "41364f45",
   "metadata": {},
   "source": [
    "<b>15. What are the logistic regression assumptions?</b>"
   ]
  },
  {
   "cell_type": "markdown",
   "id": "fea49ed8",
   "metadata": {},
   "source": [
    "Ans: The logistic regression method assumes that: The outcome is a binary or dichotomous variable like yes vs no, positive vs negative, 1 vs 0. There is a linear relationship between the logit of the outcome and each predictor variables\n"
   ]
  },
  {
   "cell_type": "markdown",
   "id": "7c6d27d2",
   "metadata": {},
   "source": [
    "<b>16. Go through the details of maximum likelihood estimation.</b>"
   ]
  },
  {
   "cell_type": "markdown",
   "id": "32f704c0",
   "metadata": {},
   "source": [
    "Ans: \n",
    "In statistics, maximum likelihood estimation (MLE) is a method of estimating the parameters of an assumed probability distribution, given some observed data.\n",
    " This is achieved by maximizing a likelihood function so that, under the assumed statistical model, the observed data is most probable."
   ]
  }
 ],
 "metadata": {
  "kernelspec": {
   "display_name": "Python 3",
   "language": "python",
   "name": "python3"
  },
  "language_info": {
   "codemirror_mode": {
    "name": "ipython",
    "version": 3
   },
   "file_extension": ".py",
   "mimetype": "text/x-python",
   "name": "python",
   "nbconvert_exporter": "python",
   "pygments_lexer": "ipython3",
   "version": "3.8.8"
  }
 },
 "nbformat": 4,
 "nbformat_minor": 5
}
