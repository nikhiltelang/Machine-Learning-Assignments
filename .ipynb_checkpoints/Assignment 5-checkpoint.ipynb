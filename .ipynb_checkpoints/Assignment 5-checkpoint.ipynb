{
 "cells": [
  {
   "cell_type": "markdown",
   "id": "3de001f0",
   "metadata": {},
   "source": [
    "<b>1. What are the key tasks that machine learning entails? What does data pre-processing imply?</b>"
   ]
  },
  {
   "cell_type": "markdown",
   "id": "ca54e3e9",
   "metadata": {},
   "source": [
    "Ans: Data preprocessing is required tasks for cleaning the data and making it suitable for a machine learning model which also increases the accuracy and \n",
    "efficiency of a machine learning model. It involves below steps: Getting the dataset. Importing libraries."
   ]
  },
  {
   "cell_type": "markdown",
   "id": "62f1952c",
   "metadata": {},
   "source": [
    "<b>2. Describe quantitative and qualitative data in depth. Make a distinction between the two.</b>"
   ]
  },
  {
   "cell_type": "markdown",
   "id": "ca8ea552",
   "metadata": {},
   "source": [
    "Ans: \n",
    "Quantitative data : \n",
    "Quantitative data refers to any information that can be quantified. If it can be counted or measured, and given a numerical value, it’s quantitative data. Quantitative data can tell you “how many,” “how much,” or “how often”—for example, how many people attended last week’s webinar? \n",
    "How much revenue did the company make in 2019? How often does a certain customer group use online banking?\n",
    "\n",
    "qualitative data:\n",
    "Unlike quantitative data, qualitative data cannot be measured or counted. It’s descriptive, expressed in terms of language rather than numerical values.\n",
    "\n",
    "Researchers will often turn to qualitative data to answer “Why?” or “How?” questions. For example, if your quantitative data tells you that a certain website visitor abandoned their shopping cart three times in one week, you’d probably want to investigate why—and this might involve collecting some form of qualitative data from the user. Perhaps you want to know how a user feels about a particular product; again, qualitative data can provide such insights. In this case, you’re not just looking at numbers; you’re asking the user to tell you, using language, why they did something or how they feel.\n",
    "\n",
    "Qualitative data also refers to the words or labels used to describe certain characteristics or traits—for example, describing the sky as blue or labeling a particular ice cream flavor as vanilla.\n",
    "\n",
    "The main differences between quantitative and qualitative data lie in what they tell us, how they are collected, and how they are analyzed. Let’s summarize the key differences before exploring each aspect in more detail:\n",
    "\n",
    "Quantitative data is countable or measurable, relating to numbers. Qualitative data is descriptive, relating to language.\n",
    "Quantitative data tells us how many, how much, or how often (e.g. “20 people signed up to our email newsletter last week”). Qualitative data can help us to understand the “why” or “how” behind certain behaviors, or it can simply describe a certain attribute—for example, “The postbox is red” or “I signed up to the email newsletter because I’m really interested in hearing about local events.”\n",
    "Quantitative data is fixed and “universal,” while qualitative data is subjective and dynamic. For example, if something weighs 20 kilograms, that can be considered an objective fact. However, two people may have very different qualitative accounts of how they experience a particular event.\n",
    "Quantitative data is gathered by measuring and counting. Qualitative data is collected by interviewing and observing.\n",
    "Quantitative data is analyzed using statistical analysis, while qualitative data is analyzed by grouping it in terms of meaningful categories or themes."
   ]
  },
  {
   "cell_type": "markdown",
   "id": "2e56515d",
   "metadata": {},
   "source": [
    "<b>4. What are the various causes of machine learning data issues? What are the ramifications?</b>"
   ]
  },
  {
   "cell_type": "markdown",
   "id": "560f56e6",
   "metadata": {},
   "source": [
    "Ans: Understanding Which Processes Need Automation , Lack of Quality Data ,Inadequate Infrastructure"
   ]
  },
  {
   "cell_type": "markdown",
   "id": "623ea917",
   "metadata": {},
   "source": [
    "<b>5. Demonstrate various approaches to categorical data exploration with appropriate examples.</b>"
   ]
  },
  {
   "cell_type": "markdown",
   "id": "9856136d",
   "metadata": {},
   "source": [
    "Ans: \n",
    "Create Dummies\n",
    "Description: Create dummies or binary type columns for each category in the object/ category type feature. The value for each row is 1 if that category is available in that row else 0. To create dummies use pandas get_dummies() function.\n",
    "2. Ordinal Number Encoding\n",
    "Description: When the categorical variables are ordinal, the easiest approach is to replace each label/category by some ordinal number based on the ranks. In our data Pclass is ordinal feature having values First, Second, Third so each category replaced by its rank i.e 1,2,3 respectively.\n",
    "3. Count / Frequency Encoding\n",
    "Description: Replace each category with its frequency/number of time that category occurred in that column.\n",
    "\n",
    "4. Target/Guided Encoding\n",
    "Description: Here, the category of the column has been replaced with its depending join probability ranking with respect to Target column.\n",
    "Implementation: To show the implementation I am using Cabin column with respect to Survived target column. The same steps are applicable for any ordinal column in the dataset.\n",
    "\n",
    "5. Mean Encoding\n",
    "Description: Simillar to target/guided encoding only difference is here we replace category with the mean value with respect to target column. Here also we implement with cabin and survived target column.\n",
    "\n",
    "6. Probability Ratio Encoding\n",
    "Description: Here category of the column is replaced with a probability ratio with respect to Target variable. Here I am using Cabin as an independent variable and its categories is replaced with a probability ratio of person Survived vs Died in each cabin."
   ]
  },
  {
   "cell_type": "markdown",
   "id": "077c6113",
   "metadata": {},
   "source": [
    "<b>\n",
    "6. How would the learning activity be affected if certain variables have missing values? Having said that, what can be done about it?</b>"
   ]
  },
  {
   "cell_type": "markdown",
   "id": "ee6ef0fd",
   "metadata": {},
   "source": [
    "Ans: Deductive Imputation\n",
    "This is an imputation rule defined by logical reasoning, as opposed to a statistical rule. For example, if someone has 2 children in year 1, year 2 has missing values, and 2 children in year 3, we can reasonably impute that they have 2 children in year 2. It requires no inference, and the true value can be assessed. But it can be time-consuming or might require specific coding.\n",
    "\n",
    "Mean/Median/Mode Imputation\n",
    "In this method, any missing values in a given column are replaced with the mean (or median, or mode) of that column. This is the easiest to implement and comprehend. In our example dataset, ‘Triceps skinfold thickness’ is one of the variables that have some missing values. All the missing values in this variable will be replaced by the value 29.12 which is the mean of all the values that are available to us. The same method can be applied to other variables as well."
   ]
  },
  {
   "cell_type": "markdown",
   "id": "da452e87",
   "metadata": {},
   "source": [
    "<b>7. Describe the various methods for dealing with missing data values in depth.</b>"
   ]
  },
  {
   "cell_type": "markdown",
   "id": "c2530904",
   "metadata": {},
   "source": [
    "Ans: Types of Missing Data\n",
    "Understanding the nature of missing data is critical in determining what treatments can be applied to overcome the lack of data. Data can be missing in the following ways:\n",
    "\n",
    "Missing Completely At Random (MCAR): When missing values are randomly distributed across all observations, then we consider the data to be missing completely at random. A quick check for this is to compare two parts of data – one with missing observations and the other without missing observations. On a t-test, if we do not find any difference in means between the two samples of data, we can assume the data to be MCAR.\n",
    "Missing At Random (MAR): The key difference between MCAR and MAR is that under MAR the data is not missing randomly across all observations, but is missing randomly only within sub-samples of data. For example, if high school GPA data is missing randomly across all schools in a district, that data will be considered MCAR. However, if data is randomly missing for students in specific schools of the district, then the data is MAR.\n",
    "Not Missing At Random (NMAR): When the missing data has a structure to it, we cannot treat it as missing at random. In the above example, if the data was missing for all students from specific schools, then the data cannot be treated as MAR.\n",
    "Common Methods\n",
    "1. Mean or Median Imputation\n",
    "When data is missing at random, we can use list-wise or pair-wise deletion of the missing observations. However, there can be multiple reasons why this may not be the most feasible option:\n",
    "\n",
    "There may not be enough observations with non-missing data to produce a reliable analysis\n",
    "In predictive analytics, missing data can prevent the predictions for those observations which have missing data\n",
    "External factors may require specific observations to be part of the analysis\n",
    "In such cases, we impute values for missing data. A common technique is to use the mean or median of the non-missing observations. This can be useful in cases where the number of missing observations is low. However, for large number of missing values, using mean or median can result in loss of variation in data and it is better to use imputations. Depending upon the nature of the missing data, we use different techniques to impute data that have been described below.\n",
    "\n",
    "2. Multivariate Imputation by Chained Equations (MICE)\n",
    "MICE assumes that the missing data are Missing at Random (MAR). It imputes data on a variable-by-variable basis by specifying an imputation model per variable. MICE uses predictive mean matching (PMM) for continuous variables, logistic regressions for binary variables, bayesian polytomous regressions for factor variables, and proportional odds model for ordered variables to impute missing data.\n",
    "\n",
    "To set up the data for MICE, it is important to note that the algorithm uses all the variables in the data for predictions. In this case, variables that may not be useful for predictions, like the ID variable, should be removed before implementing this algorithm."
   ]
  },
  {
   "cell_type": "markdown",
   "id": "cf359b22",
   "metadata": {},
   "source": [
    "<b>8. What are the various data pre-processing techniques? Explain dimensionality reduction and function selection in a few words.</b>"
   ]
  },
  {
   "cell_type": "markdown",
   "id": "bc060ebd",
   "metadata": {},
   "source": [
    "Ans: There are four methods of Data Preprocessing They are Data Cleaning/Cleansing, Data Integration, Data Transformation, and Data Reduction"
   ]
  },
  {
   "cell_type": "markdown",
   "id": "fe57609f",
   "metadata": {},
   "source": [
    "<b>9.i. What is the IQR? What criteria are used to assess it?</b>"
   ]
  },
  {
   "cell_type": "markdown",
   "id": "38e7fb48",
   "metadata": {},
   "source": [
    "Ans: \n",
    "In descriptive statistics, the interquartile range, also called the midspread, middle 50%, or H‑spread, is a measure of statistical dispersion, being equal to the difference between 75th and 25th percentiles, or between upper and lower quartiles, IQR = Q₃ − Q₁.\n",
    "\n",
    "ii. Describe the various components of a box plot in detail? When will the lower whisker    surpass the upper whisker in length? How can box plots be used to identify outliers?\n",
    "Ans: A box and whisker plot—also called a box plot—displays the five-number summary of a set of data. The five-number summary is the minimum, first quartile, median, third quartile, and maximum. In a box plot, we draw a box from the first quartile to the third quartile. A vertical line goes through the box at the median"
   ]
  },
  {
   "cell_type": "markdown",
   "id": "569f0d4d",
   "metadata": {},
   "source": [
    "<b>10. Make brief notes on any two of the following:</b>"
   ]
  },
  {
   "cell_type": "markdown",
   "id": "bc5a2d81",
   "metadata": {},
   "source": [
    "1. Data collected at regular intervals\n",
    "Ans: Interval data, also called an integer, is defined as a data type which is measured along a scale, in which each point is placed at equal distance from one another. Interval data always appears in the form of numbers or numerical values where the distance between the two points is standardized and equal.\n",
    "\n",
    "2. The gap between the quartiles\n",
    "A quartile is a statistical term describing a division of a data set into four calculated as the difference between the first and third quartile: Q3–Q1.\n",
    "3. Use a cross-tab\n",
    "\n",
    "1. Make a comparison between:\n",
    "\n",
    "1. Data with nominal and ordinal values\n",
    "Nominal data is a group of non-parametric variables, while Ordinal data is a group of non-parametric ordered variables. Although, they are both non-parametric variables, what differentiates them is the fact that ordinal data is placed into some kind of order by their position.\n",
    "\n",
    "For example, very hot, hot, cold, very cold, warm are all nominal data when considered individually. But when placed on a scale and arranged in a given order (very hot, hot, warm, cold, very cold), they are regarded as ordinal data.\n",
    "\n",
    "\n",
    "2. Histogram and box plot\n",
    "Histograms and box plots are very similar in that they both help to visualize and describe numeric data. Although histograms are better in determining the underlying distribution of the data, box plots allow you to compare multiple data sets better than histograms as they are less detailed and take up less space.\n",
    "\n",
    "3. The average and median\n",
    "The average is the arithmetic mean of a set of numbers. The median is a numeric value that separates the higher half of a set from the lower half."
   ]
  },
  {
   "cell_type": "markdown",
   "id": "ceacbdc8",
   "metadata": {},
   "source": []
  },
  {
   "cell_type": "markdown",
   "id": "370f733c",
   "metadata": {},
   "source": []
  }
 ],
 "metadata": {
  "kernelspec": {
   "display_name": "Python 3",
   "language": "python",
   "name": "python3"
  },
  "language_info": {
   "codemirror_mode": {
    "name": "ipython",
    "version": 3
   },
   "file_extension": ".py",
   "mimetype": "text/x-python",
   "name": "python",
   "nbconvert_exporter": "python",
   "pygments_lexer": "ipython3",
   "version": "3.8.8"
  }
 },
 "nbformat": 4,
 "nbformat_minor": 5
}
