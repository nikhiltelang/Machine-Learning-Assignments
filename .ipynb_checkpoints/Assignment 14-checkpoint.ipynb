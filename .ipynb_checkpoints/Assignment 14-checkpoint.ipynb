{
 "cells": [
  {
   "cell_type": "markdown",
   "id": "12a2461e",
   "metadata": {},
   "source": [
    "<b>1. What is the concept of supervised learning? What is the significance of the name?</b>"
   ]
  },
  {
   "cell_type": "markdown",
   "id": "e321abfb",
   "metadata": {},
   "source": [
    "Ans: \n",
    "The name “supervised” learning originates from the idea that training this type of algorithm is like having a teacher supervise the whole process.\n",
    "When training a supervised learning algorithm, the training data will consist of inputs paired with the correct outputs.\n"
   ]
  },
  {
   "cell_type": "markdown",
   "id": "abb1ab25",
   "metadata": {},
   "source": [
    "<b>2. In the hospital sector, offer an example of supervised learning.</b>"
   ]
  },
  {
   "cell_type": "markdown",
   "id": "cd3c6a9e",
   "metadata": {},
   "source": [
    "Ans: \n",
    "For example, deep learning, a type of complex machine learning that mimics how the human brain functions, is increasingly being used in radiology and medical imaging. Using neural networks that can learn\n",
    "from data without any supervision, deep learning applications can detect, recognize and analyze cancerous lesions from images.\n",
    "\n",
    "Recordkeeping\n",
    "Machine learning in health informatics can streamline recordkeeping, including electronic health records (EHRs). Using AI to improve EHR management can improve patient care, reduce healthcare and administrative costs, and optimize operations.\n",
    "\n",
    "One example includes natural language processing, which enables physicians to capture and record clinical notes, eliminating manual processes.\n",
    "\n",
    "Machine learning algorithms can also make EHR management systems easier to use for physicians by providing clinical decision support, automating image analysis and integrating telehealth technologies.\n"
   ]
  },
  {
   "cell_type": "markdown",
   "id": "f486ab21",
   "metadata": {},
   "source": [
    "<b>3. Give three supervised learning examples.</b>"
   ]
  },
  {
   "cell_type": "markdown",
   "id": "a5a8b939",
   "metadata": {},
   "source": [
    "Ans:\n",
    "Linear regression for regression problems.\n",
    "Random forest for classification and regression problems.\n",
    "Support vector machines for classification problems."
   ]
  },
  {
   "cell_type": "markdown",
   "id": "86ebbc52",
   "metadata": {},
   "source": [
    "<b>4. In supervised learning, what are classification and regression?\n",
    "</b>"
   ]
  },
  {
   "cell_type": "markdown",
   "id": "0a3e47f7",
   "metadata": {},
   "source": [
    "Ans: \n",
    "Supervised learning can be separated into two types of problems when data mining—classification and regression: Classification uses an algorithm to accurately assign test data into specific categories. \n",
    "Regression is used to understand the relationship between dependent and independent variables.\n",
    "\n"
   ]
  },
  {
   "cell_type": "markdown",
   "id": "55d7c1eb",
   "metadata": {},
   "source": [
    "<b>5. Give some popular classification algorithms as examples.</b>"
   ]
  },
  {
   "cell_type": "markdown",
   "id": "bb40d282",
   "metadata": {},
   "source": [
    "Ans: \n",
    "Logistic Regression.\n",
    "k-Nearest Neighbors.\n",
    "Decision Trees.\n",
    "Support Vector Machine.\n",
    "Naive Bayes."
   ]
  },
  {
   "cell_type": "markdown",
   "id": "9066468e",
   "metadata": {},
   "source": [
    "<b>6. Briefly describe the SVM model.</b>"
   ]
  },
  {
   "cell_type": "markdown",
   "id": "e6084ade",
   "metadata": {},
   "source": [
    "Ans: \n",
    "SVM or Support Vector Machine is a linear model for classification and regression problems. It can solve linear and non-linear problems and work well for\n",
    " many practical problems. The idea of SVM is simple: The algorithm creates a line or a hyperplane which separates the data into classes.\n"
   ]
  },
  {
   "cell_type": "markdown",
   "id": "d3beb197",
   "metadata": {},
   "source": [
    "<b>7. In SVM, what is the cost of misclassification?\n",
    "</b>"
   ]
  },
  {
   "cell_type": "markdown",
   "id": "f5d5a795",
   "metadata": {},
   "source": [
    "Ans:It changes the ordering as well, since the orientation of the hyperplane typically changes when you fiddle with the cost function. \n",
    "Translating the separating hyperplane in feature space does not induce changes to ROC curves, but rotating it does.\n"
   ]
  },
  {
   "cell_type": "markdown",
   "id": "fbd657e6",
   "metadata": {},
   "source": [
    "<b>8. In the SVM model, define Support Vectors.</b>"
   ]
  },
  {
   "cell_type": "markdown",
   "id": "bbd85087",
   "metadata": {},
   "source": [
    "ans: \n",
    "Support vectors are data points that are closer to the hyperplane and influence the position and orientation of the hyperplane. Using these support vectors, we maximize the margin of the classifier. \n",
    "Deleting the support vectors will change the position of the hyperplane. These are the points that help us build our SVM.\n"
   ]
  },
  {
   "cell_type": "markdown",
   "id": "a0cd840e",
   "metadata": {},
   "source": [
    "<b>9. In the SVM model, define the kernel.</b>"
   ]
  },
  {
   "cell_type": "markdown",
   "id": "c7f8aaf5",
   "metadata": {},
   "source": [
    "Ans:\n",
    "SVM algorithms use a set of mathematical functions that are defined as the kernel. The function of kernel is to take data as input and transform it into the required form.\n",
    " These functions can be different types. For example linear, nonlinear, polynomial, radial basis function (RBF), and sigmoid\n"
   ]
  },
  {
   "cell_type": "markdown",
   "id": "29b4d9ce",
   "metadata": {},
   "source": [
    "<b>10. What are the factors that influence SVM's effectiveness?</b>"
   ]
  },
  {
   "cell_type": "markdown",
   "id": "87976460",
   "metadata": {},
   "source": [
    "<b></b>"
   ]
  },
  {
   "cell_type": "markdown",
   "id": "e17f60e4",
   "metadata": {},
   "source": [
    "<b>11. What are the benefits of using the SVM model?</b>"
   ]
  },
  {
   "cell_type": "markdown",
   "id": "cd421237",
   "metadata": {},
   "source": [
    "Ans: \n",
    "SVM works relatively well when there is a clear margin of separation between classes. SVM is more effective in high dimensional spaces.\n",
    "SVM is effective in cases where the number of dimensions is greater than the number of samples. SVM is relatively memory efficient.\n"
   ]
  },
  {
   "cell_type": "markdown",
   "id": "9b03f814",
   "metadata": {},
   "source": [
    "<b>12.  What are the drawbacks of using the SVM model?</b>"
   ]
  },
  {
   "cell_type": "markdown",
   "id": "e33dc2fb",
   "metadata": {},
   "source": [
    "Ans:SVM algorithm is not suitable for large data sets. SVM does not perform very well when the data set has more noise i.e. target classes are overlapping. \n",
    "In cases where the number of features for each data point exceeds the number of training data samples, the SVM will underperform. \n"
   ]
  },
  {
   "cell_type": "markdown",
   "id": "07734366",
   "metadata": {},
   "source": [
    "<b>13. Notes should be written on:</b>"
   ]
  },
  {
   "cell_type": "markdown",
   "id": "7e703c81",
   "metadata": {},
   "source": [
    "1. The kNN algorithm has a validation flaw.\n",
    "Ans: K-Nearest Neighbor also known as KNN is a supervised learning algorithm that \n",
    "can be used for regression as well as classification problems. Generally, it is used for classification problems in machine learning. \n",
    "\n",
    "\n",
    "2. In the kNN algorithm, the k value is chosen.\n",
    "Ans:The optimal K value usually found is the square root of N, where N is the total number of samples. Use an error plot or accuracy plot \n",
    "to find the most favorable K value. KNN performs well with multi-label classes, but you must be aware of the outliers.\n",
    "\n",
    "3. A decision tree with inductive bias\n",
    "Ans: \n",
    "Shorter trees are preferred over longer trees. Trees that place high information gain attributes close to the root are preferred over those that do not."
   ]
  },
  {
   "cell_type": "markdown",
   "id": "d870ec64",
   "metadata": {},
   "source": [
    "<b>14. What are some of the benefits of the kNN algorithm?</b>"
   ]
  },
  {
   "cell_type": "markdown",
   "id": "51045b5e",
   "metadata": {},
   "source": [
    "Ans: \n",
    "The algorithm is simple and easy to implement.\n",
    "There's no need to build a model, tune several parameters, or make additional assumptions.\n",
    "The algorithm is versatile. It can be used for classification, regression, and search (as we will see in the next section).\n",
    "\n"
   ]
  },
  {
   "cell_type": "markdown",
   "id": "a5be5564",
   "metadata": {},
   "source": [
    "<b>15. What are some of the kNN algorithm's drawbacks?</b>"
   ]
  },
  {
   "cell_type": "markdown",
   "id": "b3e2d64e",
   "metadata": {},
   "source": [
    "Ans: Accuracy depends on the quality of the data.\n",
    "With large data, the prediction stage might be slow.\n",
    "Sensitive to the scale of the data and irrelevant features.\n",
    "Require high memory – need to store all of the training data.\n",
    "Given that it stores all of the training, it can be computationally expensive.\n"
   ]
  },
  {
   "cell_type": "markdown",
   "id": "20c316d6",
   "metadata": {},
   "source": [
    "<b>16. Explain the decision tree algorithm in a few words.</b>"
   ]
  },
  {
   "cell_type": "markdown",
   "id": "d7b5ef3a",
   "metadata": {},
   "source": [
    "Ans:A decision tree is a graphical representation of all the possible solutions to a decision based on certain conditions. Tree models where the target variable can take a \n",
    "finite set of values are called classification trees and target variable can take continuous values (numbers) are called regression trees.\n"
   ]
  },
  {
   "cell_type": "markdown",
   "id": "520ffd14",
   "metadata": {},
   "source": [
    "<b>17. What is the difference between a node and a leaf in a decision tree?</b>"
   ]
  },
  {
   "cell_type": "markdown",
   "id": "825981cc",
   "metadata": {},
   "source": [
    "Ans:\n",
    "Overview. A decision tree is a flowchart-like structure in which each internal node represents a \"test\" on an attribute (e.g. whether a coin flip comes up heads or tails), \n",
    "each branch represents the outcome of the test, and each leaf node represents a class label (decision taken after computing all attributes).\n"
   ]
  },
  {
   "cell_type": "markdown",
   "id": "2ee4522c",
   "metadata": {},
   "source": [
    "<b>18. What is a decision tree's entropy?</b>"
   ]
  },
  {
   "cell_type": "markdown",
   "id": "997b156b",
   "metadata": {},
   "source": [
    "Ans:Entropy. A decision tree is built top-down from a root node and involves partitioning the data into subsets \n",
    "that contain instances with similar values (homogenous). ID3 algorithm uses entropy to calculate the homogeneity of a sample."
   ]
  },
  {
   "cell_type": "markdown",
   "id": "4a39d1e2",
   "metadata": {},
   "source": [
    "<b>19. In a decision tree, define knowledge gain.</b>"
   ]
  },
  {
   "cell_type": "markdown",
   "id": "4e8e7175",
   "metadata": {},
   "source": [
    "Ans: \n",
    "Given Entropy is the measure of impurity in a collection of a dataset, now we can measure the effectiveness of an attribute in classifying the training set. The measure we will use called information gain, is simply the expected reduction in entropy caused by partitioning \n",
    "the data set according to this attribute. The information gain (Gain(S,A) of an attribute A relative to a collection of data set S, is defined as-\n"
   ]
  },
  {
   "cell_type": "markdown",
   "id": "2b43c259",
   "metadata": {},
   "source": [
    "<b>20. Choose three advantages of the decision tree approach and write them down.</b>"
   ]
  },
  {
   "cell_type": "markdown",
   "id": "6b220af5",
   "metadata": {},
   "source": [
    "Ans:\n",
    "Comprehensive\n",
    "\n",
    "A significant advantage of a decision tree is that it forces the consideration of all possible outcomes of a decision and traces each path to a conclusion. It creates a comprehensive analysis of the consequences along each branch and identifies decision nodes that need further analysis.\n",
    "\n",
    "Specific\n",
    "\n",
    "Decision trees assign specific values to each problem, decision path and outcome. Using monetary values makes costs and benefits explicit. This approach identifies the relevant decision paths, reduces uncertainty, clears up ambiguity and clarifies the financial consequences of various courses of action.\n",
    "\n",
    "When factual information is not available, decision trees use probabilities for conditions to keep choices in perspective with each other for easy comparisons.\n",
    "\n",
    "Easy to Use\n",
    "\n",
    "Decision trees are easy to use and explain with simple math, no complex formulas. They present visually all of the decision alternatives for quick comparisons in a format that is easy to understand with only brief explanations.\n",
    "\n",
    "They are intuitive and follow the same pattern of thinking that humans use when making decisions.\n",
    "\n",
    "Versatile\n",
    "\n",
    "A multitude of business problems can be analyzed and solved by decision trees. They are useful tools for business managers, technicians, engineers, medical staff and anyone else who has to make decisions under uncertain conditions.\n",
    "\n",
    "The algorithm of a decision tree can be integrated with other management analysis tools such as Net Present Value and Project Evaluation Review Technique (PERT).\n",
    "\n"
   ]
  },
  {
   "cell_type": "markdown",
   "id": "b550dff6",
   "metadata": {},
   "source": [
    "<b>21. Make a list of three flaws in the decision tree process.</b>"
   ]
  },
  {
   "cell_type": "markdown",
   "id": "6769f68d",
   "metadata": {},
   "source": [
    "Ans: \n",
    "Decision Trees are very much prone to Over-fitting of data.\n",
    "Performance wise its very weak.\n",
    "Can’t learn complex relationships.\n",
    "There are no assumptions of distribution of data.\n",
    "You can use several methods to avoid overfitting like:\n",
    "\n",
    "Cross-Validation\n",
    "\n",
    "Learning with more features\n",
    "\n",
    "Getting more versatile data\n",
    "\n",
    "Ensemble Learning\n",
    "\n",
    "and Early stoppping\n"
   ]
  },
  {
   "cell_type": "markdown",
   "id": "88a75055",
   "metadata": {},
   "source": [
    "<b>22. Briefly describe the random forest model.</b>"
   ]
  },
  {
   "cell_type": "markdown",
   "id": "3c5af1f8",
   "metadata": {},
   "source": [
    "Ans: \n",
    "Random forest is a supervised learning algorithm. The \"forest\" it builds, is an ensemble of decision trees, usually trained with the “bagging” method. The general idea of the bagging method is that a combination of learning models increases the overall result"
   ]
  }
 ],
 "metadata": {
  "kernelspec": {
   "display_name": "Python 3",
   "language": "python",
   "name": "python3"
  },
  "language_info": {
   "codemirror_mode": {
    "name": "ipython",
    "version": 3
   },
   "file_extension": ".py",
   "mimetype": "text/x-python",
   "name": "python",
   "nbconvert_exporter": "python",
   "pygments_lexer": "ipython3",
   "version": "3.8.8"
  }
 },
 "nbformat": 4,
 "nbformat_minor": 5
}
