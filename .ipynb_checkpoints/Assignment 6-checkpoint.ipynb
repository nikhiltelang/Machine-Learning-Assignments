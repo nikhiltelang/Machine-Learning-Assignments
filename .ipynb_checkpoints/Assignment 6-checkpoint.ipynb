{
 "cells": [
  {
   "cell_type": "markdown",
   "id": "46874395",
   "metadata": {},
   "source": [
    "<b>1. In the sense of machine learning, what is a model? What is the best way to train a model?</b>"
   ]
  },
  {
   "cell_type": "markdown",
   "id": "35305d6d",
   "metadata": {},
   "source": [
    "ans:A training model is a dataset that is used to train an ML algorithm. It consists of the sample output data and the corresponding sets of input data that have an influence on the output. \n",
    "The training model is used to run the input data through the algorithm to correlate the processed output against the sample output.\n"
   ]
  },
  {
   "cell_type": "markdown",
   "id": "499b5d05",
   "metadata": {},
   "source": [
    "<b>2. In the sense of machine learning, explain the \"No Free Lunch\" theorem.</b>"
   ]
  },
  {
   "cell_type": "markdown",
   "id": "759af3f6",
   "metadata": {},
   "source": [
    "Ans: The “no free lunch” (NFL) theorem for supervised machine learning is a \n",
    "theorem that essentially implies that no single machine learning algorithm is universally the best-performing algorithm for all problems."
   ]
  },
  {
   "cell_type": "markdown",
   "id": "7dbff4bd",
   "metadata": {},
   "source": [
    "<b>3. Describe the K-fold cross-validation mechanism in detail.</b>"
   ]
  },
  {
   "cell_type": "markdown",
   "id": "c19c8d67",
   "metadata": {},
   "source": [
    "Ans: In k-fold cross-validation, the original sample is randomly partitioned into k equal sized subsamples. Of the k subsamples, a single subsample is retained as \n",
    "the validation data for testing the model, and the remaining k − 1 subsamples are used as training data.\n"
   ]
  },
  {
   "cell_type": "markdown",
   "id": "9b42bfc7",
   "metadata": {},
   "source": [
    "<b>4. Describe the bootstrap sampling method. What is the aim of it?</b>"
   ]
  },
  {
   "cell_type": "markdown",
   "id": "f4be0d0f",
   "metadata": {},
   "source": [
    "Ans:Bootstrapping assigns measures of accuracy (bias, variance,\n",
    " confidence intervals, prediction error, etc.) to sample estimates. This technique allows estimation of the sampling distribution of almost any statistic using random sampling methods.\n"
   ]
  },
  {
   "cell_type": "markdown",
   "id": "eeb384af",
   "metadata": {},
   "source": [
    "<b>5. What is the significance of calculating the Kappa value for a classification model? Demonstrate how to measure the Kappa value of a classification model using a sample collection of results.</b>"
   ]
  },
  {
   "cell_type": "markdown",
   "id": "294ee3c6",
   "metadata": {},
   "source": [
    "Ans: Ensemble methods is a machine learning technique that combines several base models in order to produce one optimal predictive model ."
   ]
  },
  {
   "cell_type": "markdown",
   "id": "622d8bab",
   "metadata": {},
   "source": [
    "<b>6. Describe the model ensemble method. In machine learning, what part does it play?</b>"
   ]
  },
  {
   "cell_type": "markdown",
   "id": "85c5d8cc",
   "metadata": {},
   "source": [
    "Ans: In unsupervised learning, the data mining algorithms describe some intrinsic property or structure of data and hence are sometimes called descriptive models.\n",
    "\n"
   ]
  },
  {
   "cell_type": "markdown",
   "id": "46d682de",
   "metadata": {},
   "source": [
    "<b>7. What is a descriptive model's main purpose? Give examples of real-world problems that descriptive models were used to solve.</b>"
   ]
  },
  {
   "cell_type": "markdown",
   "id": "6d0ef793",
   "metadata": {},
   "source": [
    "Ans: Evaluating a Linear Regression Model. Confidence in model, hypothesis testing, p-values, feature selection, train/test split \n"
   ]
  },
  {
   "cell_type": "markdown",
   "id": "dc29811f",
   "metadata": {},
   "source": [
    "<b>8. Describe how to evaluate a linear regression model.</b>"
   ]
  },
  {
   "cell_type": "markdown",
   "id": "1b0cfc46",
   "metadata": {},
   "source": [
    "Ans: Evaluating a Linear Regression Model. Confidence in model, hypothesis testing, p-values, feature selection, train/test split "
   ]
  },
  {
   "cell_type": "markdown",
   "id": "a9bbae04",
   "metadata": {},
   "source": [
    "<b>9. Distinguish :</b>"
   ]
  },
  {
   "cell_type": "markdown",
   "id": "5b0fe29a",
   "metadata": {},
   "source": [
    "1. Descriptive vs. predictive models\n",
    "A descriptive model will exploit the past data that are stored in databases and provide you with the accurate report. \n",
    "In a Predictive model, it identifies patterns found in past and transactional data to find risks and future outcomes.\n",
    "\n",
    "2. Underfitting vs. overfitting the model\n",
    "A model that is underfit will have high training and high testing error while an overfit model will have extremely low training error but a high testing error. \n",
    " The exact metrics depend on the testing set, but on average, the best model from cross-validation will outperform all other models.\n",
    "\n",
    "\n",
    "3. Bootstrapping vs. cross-validation"
   ]
  },
  {
   "cell_type": "markdown",
   "id": "be5c3f37",
   "metadata": {},
   "source": [
    "<b>10. Make quick notes on:</b>"
   ]
  },
  {
   "cell_type": "markdown",
   "id": "5a00d4db",
   "metadata": {},
   "source": [
    "1. LOOCV.\n",
    "            LOOCV(Leave One Out Cross-Validation) is a type of cross-validation approach in which each observation is considered as the validation set and the rest (N-1) \n",
    "            observations are considered as the training set. In LOOCV, fitting of the model is done and predicting using one observation validation set.\n",
    "\n",
    "            2. F-measurement\n",
    "In statistical analysis of binary classification, the F-score or F-measure is a measure of a test's accuracy. It is calculated from the precision\n",
    "\n",
    "            3. The width of the silhouette\n",
    "\n",
    "             4. Receiver operating characteristic curve\n",
    "             A receiver operating characteristic curve, or ROC curve, is a graphical plot that illustrates the diagnostic ability of a binary classifier system as its discrimination threshold is varied.\n",
    "              The method was originally developed for operators of military radar receivers starting in 1941, which led to its name"
   ]
  },
  {
   "cell_type": "markdown",
   "id": "fd0340d3",
   "metadata": {},
   "source": [
    "<b></b>"
   ]
  }
 ],
 "metadata": {
  "kernelspec": {
   "display_name": "Python 3",
   "language": "python",
   "name": "python3"
  },
  "language_info": {
   "codemirror_mode": {
    "name": "ipython",
    "version": 3
   },
   "file_extension": ".py",
   "mimetype": "text/x-python",
   "name": "python",
   "nbconvert_exporter": "python",
   "pygments_lexer": "ipython3",
   "version": "3.8.8"
  }
 },
 "nbformat": 4,
 "nbformat_minor": 5
}
