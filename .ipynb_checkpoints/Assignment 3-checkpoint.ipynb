{
 "cells": [
  {
   "cell_type": "markdown",
   "id": "2551f9b8",
   "metadata": {},
   "source": [
    "<b>1.Explain the term machine learning, and how does it work? Explain two machine learning\n",
    "applications in the business world. What are some of the ethical concerns that machine learning\n",
    "applications could raise?</b>"
   ]
  },
  {
   "cell_type": "markdown",
   "id": "4f8d36a6",
   "metadata": {},
   "source": [
    "Ans: Machine learning is a branch of artificial intelligence (AI) and computer science which focuses on the use of data and algorithms\n",
    " to imitate the way that humans learn, gradually improving its accuracy."
   ]
  },
  {
   "cell_type": "markdown",
   "id": "747019cb",
   "metadata": {},
   "source": [
    "<b>2. Describe the process of human learning:\n",
    "    <blockquote><p>i. Under the supervision of experts</p>\n",
    "        <p>ii. With the assistance of experts in an indirect manner</p>\n",
    "        <p>iii. Self-education</p>\n",
    "    </blockquote>\n",
    "</b>"
   ]
  },
  {
   "cell_type": "markdown",
   "id": "994fc0ca",
   "metadata": {},
   "source": []
  },
  {
   "cell_type": "markdown",
   "id": "7321f77f",
   "metadata": {},
   "source": [
    "<b>3. Provide a few examples of various types of machine learning.</b>"
   ]
  },
  {
   "cell_type": "code",
   "execution_count": null,
   "id": "6ed840f1",
   "metadata": {},
   "outputs": [],
   "source": [
    "Ans: Supervised Learning\n",
    "Unsupervised Learning\n",
    "Reinforcement Learning\n"
   ]
  },
  {
   "cell_type": "markdown",
   "id": "19a35e7a",
   "metadata": {},
   "source": [
    "<b>4. Examine the various forms of machine learning.</b>"
   ]
  },
  {
   "cell_type": "markdown",
   "id": "bd44b0fa",
   "metadata": {},
   "source": [
    "Ans: With machine learning algorithms, AI was able to develop beyond just performing the tasks it was programmed to do. Before ML entered the mainstream, AI programs were only used to automate low-level tasks in business and enterprise settings.\n",
    "\n",
    "This included tasks like intelligent automation or simple rule-based classification. This meant that AI algorithms were restricted to only the domain of what they were processed for. However,\n",
    " with machine learning, computers were able to move past doing what they were programmed and began evolving with each iteration.\n",
    "\n",
    "\n"
   ]
  },
  {
   "cell_type": "markdown",
   "id": "2df6cd8a",
   "metadata": {},
   "source": [
    "<b>5. Can you explain what a well-posed learning problem is? Explain the main characteristics that must\n",
    "be present to identify a learning problem properly.</b>"
   ]
  },
  {
   "cell_type": "markdown",
   "id": "32614137",
   "metadata": {},
   "source": [
    "Ans: \n",
    "computer program is said to learn from experience E with respect to some class of tasks T and performance measure P, if its performance at tasks in T, \n",
    "as measured by P, improves with experience E.\n",
    "Certain examples that efficiently defines the well-posed learning problem are – \n",
    "\n",
    "1. To better filter emails as spam or not \n",
    "\n",
    "Task – Classifying emails as spam or not\n",
    "Performance Measure – The fraction of emails accurately classified as spam or not spam \n",
    "Experience – Observing you label emails as spam or not spam \n",
    "2. A checkers learning problem\n",
    "Task – Playing checkers game \n",
    "Performance Measure – percent of games won against opposer\n",
    "Experience – playing implementation games against itself\n",
    "3. Handwriting Recognition Problem \n",
    "Task – Acknowledging handwritten words within portrayal \n",
    "Performance Measure – percent of words accurately classified\n",
    "Experience – a directory of handwritten words with given classifications\n",
    "4. A Robot Driving Problem \n",
    "Task – driving on public four-lane highways using sight scanners\n",
    "Performance Measure – average distance progressed before a fallacy\n",
    "Experience – order of images and steering instructions noted down while observing a human driver\n",
    "5. Fruit Prediction Problem\n",
    "Task – forecasting different fruits for recognition\n",
    "Performance Measure – able to predict maximum variety of fruits\n",
    "Experience – training machine with the largest datasets of fruits images\n",
    "6. Face Recognition Problem\n",
    "Task – predicting different types of faces\n",
    "Performance Measure – able to predict maximum types of faces\n",
    "Experience – training machine with maximum amount of datasets of different face images\n",
    "7. Automatic Translation of documents\n",
    "Task – translating one type of language used in a document to other language\n",
    "Performance Measure – able to convert one language to other efficiently\n",
    "Experience – training machine with a large dataset of different types of languages\n"
   ]
  },
  {
   "cell_type": "markdown",
   "id": "30c0fd21",
   "metadata": {},
   "source": [
    "<b>6. Is machine learning capable of solving all problems? Give a detailed explanation of your answer.</b>"
   ]
  },
  {
   "cell_type": "markdown",
   "id": "80bb96bb",
   "metadata": {},
   "source": [
    "Ans: Limitation 1 — Ethics\n",
    "Machine learning, a subset of artificial intelligence, has revolutionalized the world as we know it in the past decade. The information explosion has resulted in the collection of massive amounts of data, especially by large companies such as Facebook and Google. This amount of data, coupled with the rapid development of processor power and computer parallelization,\n",
    "has now made it possible to obtain and study huge amounts of data with relative ease.\n",
    "\n",
    "Limitation 2 — Deterministic Problems\n",
    "This is a limitation I personally have had to deal with. My field of expertise is environmental science, which relies heavily on computational modeling and using sensors/IoT devices.\n",
    "\n",
    "Limitation 3 — Data\n",
    "This is the most obvious limitation. If you feed a model poorly, then it will only give you poor results. This can manifest itself in two ways: lack of data, and lack of good data.\n",
    "Lack of Data\n",
    "\n",
    "Limitation 4 — Misapplication\n",
    "Related to the second limitation discussed previously, there is purported to be a “crisis of machine learning in academic research” whereby people blindly use machine learning to try and analyze systems that are either deterministic or stochastic in nature.\n",
    "\n",
    "\n"
   ]
  },
  {
   "cell_type": "markdown",
   "id": "b70e462e",
   "metadata": {},
   "source": [
    "<b>7. What are the various methods and technologies for solving machine learning problems? Any two\n",
    "of them should be defined in detail.</b>"
   ]
  },
  {
   "cell_type": "markdown",
   "id": "61e6cd2c",
   "metadata": {},
   "source": [
    "Ans: . Identifying Spam\n",
    "Spam identification is one of the most basic applications of machine learning. Most of our email inboxes also have an unsolicited, bulk, or spam inbox, where our email provider automatically filters unwanted spam emails. \n",
    "\n",
    "But how do they know that the email is spam?\n",
    "\n",
    "They use a trained Machine Learning model to identify all the spam emails based on common characteristics such as the email, subject, and sender content. \n",
    "\n",
    "2. Making Product Recommendations\n",
    "Recommender systems are one of the most characteristic and ubiquitous machine learning use cases in day-to-day life. These systems are used everywhere by search engines, e-commerce websites (Amazon), entertainment platforms (Google Play, Netflix), and multiple web & mobile apps.\n",
    "\n",
    "Customer Segmentation\n",
    "Customer segmentation, churn prediction and customer lifetime value (LTV) prediction are the main challenges faced by any marketer. Businesses have a huge amount of marketing relevant data from various sources such as email campaigns, website visitors and lead data.\n",
    "\n",
    "\n"
   ]
  },
  {
   "cell_type": "markdown",
   "id": "4e8c83e1",
   "metadata": {},
   "source": [
    "<b>8. Can you explain the various forms of supervised learning? Explain each one with an example\n",
    "application.</b>"
   ]
  },
  {
   "cell_type": "markdown",
   "id": "96ca6e3a",
   "metadata": {},
   "source": [
    "Ans: \n",
    "\n",
    "Types of Supervised Learning:  \n",
    "\n",
    "Classification: It is a Supervised Learning task where output is having defined labels(discrete value). For example in above Figure A, Output – Purchased has defined labels i.e. 0 or 1; 1 means the customer will purchase and 0 means that customer won’t purchase. The goal here is to predict discrete values belonging to a particular class and evaluate them on the basis of accuracy. \n",
    "It can be either binary or multi-class classification. In binary classification, the model predicts either 0 or 1; yes or no but in the case of multi-class classification, the model predicts more than one class. \n",
    "Example: Gmail classifies mails in more than one class like social, promotions, updates, forums.\n",
    "Regression: It is a Supervised Learning task where output is having continuous value. \n",
    "Example in above Figure B, Output – Wind Speed is not having any discrete value but is continuous in the particular range. The goal here is to predict a value as much closer to the actual output value as our model can and then evaluation is done by calculating the error value. The smaller the error the greater the accuracy of our regression model.\n",
    "Example of Supervised Learning Algorithms:  \n",
    "\n",
    "Linear Regression\n",
    "Nearest Neighbor\n",
    "Gaussian Naive Bayes\n",
    "Decision Trees\n",
    "Support Vector Machine (SVM)\n",
    "Random Forest\n"
   ]
  },
  {
   "cell_type": "markdown",
   "id": "6c8e8d63",
   "metadata": {},
   "source": [
    "<b>9. What is the difference between supervised and unsupervised learning? With a sample application\n",
    "in each region, explain the differences.</b>"
   ]
  },
  {
   "cell_type": "markdown",
   "id": "cc29b004",
   "metadata": {},
   "source": [
    "Ans: \n",
    "What is Unsupervised Learning?\n",
    "Unsupervised learning is a machine learning technique, where you do not need to supervise the model. Instead, you need to allow the model to work on its own to discover information. It mainly deals with the unlabelled data.\n",
    "\n",
    "Unsupervised learning algorithms allow you to perform more complex processing tasks compared to supervised learning. Although, unsupervised learning can be more unpredictable compared with other natural learning deep learning and reinforcement learning methods.\n",
    "Why Supervised Learning?\n",
    "Supervised learning allows you to collect data or produce a data output from the previous experience.\n",
    "Helps you to optimize performance criteria using experience\n",
    "Supervised machine learning helps you to solve various types of real-world computation problems.\n",
    "Why Unsupervised Learning?\n",
    "Here, are prime reasons for using Unsupervised Learning:\n",
    "\n",
    "Unsupervised machine learning finds all kind of unknown patterns in data.\n",
    "Unsupervised methods help you to find features which can be useful for categorization.\n",
    "It is taken place in real time, so all the input data to be analyzed and labeled in the presence of learners.\n",
    "It is easier to get unlabeled data from a computer than labeled data, which needs manual intervention.\n",
    "How Supervised Learning works?\n",
    "For example, you want to train a machine to help you predict how long it will take you to drive home from your workplace. Here, you start by creating a set of labeled data. This data includes\n",
    "\n",
    "Weather conditions\n",
    "Time of the day\n",
    "Holidays\n",
    "\n",
    "How Unsupervised Learning works?\n",
    "Let’s, take the case of a baby and her family dog.\n",
    "\n",
    "case of a baby and her family dog\n",
    "She knows and identifies this dog. A few weeks later a family friend brings along a dog and tries to play with the baby.\n",
    "\n",
    "dog\n",
    "Baby has not seen this dog earlier. But it recognizes many features (2 ears, eyes, walking on 4 legs) are like her pet dog. She identifies a new animal like a dog. This is unsupervised learning, where you are not taught but you learn from the data (in this case data about a dog.) Had this been supervised learning, the family friend would have told the baby that it’s a dog.\n",
    "\n",
    "Types of Supervised Machine Learning Techniques\n",
    "Types of Supervised Machine Learning Techniques\n",
    "Regression:\n",
    "Regression technique predicts a single output value using training data.\n",
    "\n",
    "Example: You can use regression to predict the house price from training data. The input variables will be locality, size of a house, etc.\n",
    "\n",
    "Classification:\n",
    "Classification means to group the output inside a class. If the algorithm tries to label input into two distinct classes, it is called binary classification. Selecting between more than two classes is referred to as multiclass classification.\n",
    "\n",
    "Example: Determining whether or not someone will be a defaulter of the loan.\n",
    "\n",
    "Strengths: Outputs always have a probabilistic interpretation, and the algorithm can be regularized to avoid overfitting.\n",
    "\n",
    "Weaknesses: Logistic regression may underperform when there are multiple or non-linear decision boundaries. This method is not flexible, so it does not capture more complex relationships.\n",
    "\n",
    "Types of Unsupervised Machine Learning Techniques\n",
    "Unsupervised learning problems further grouped into clustering and association problems.\n",
    "\n",
    "Clustering\n",
    "Clustering\n",
    "Clustering is an important concept when it comes to unsupervised learning. It mainly deals with finding a structure or pattern in a collection of uncategorized data. Clustering algorithms will process your data and find natural clusters(groups) if they exist in the data. You can also modify how many clusters your algorithms should identify. It allows you to adjust the granularity of these groups.\n",
    "\n",
    "Association\n",
    "Association rules allow you to establish associations amongst data objects inside large databases. This unsupervised technique is about discovering exciting relationships between variables in large databases. For example, people that buy a new home most likely to buy new furniture.\n",
    "\n",
    "Other Examples:\n",
    "\n",
    "A subgroup of cancer patients grouped by their gene expression measurements\n",
    "Groups of shopper based on their browsing and purchasing histories\n",
    "Movie group by the rating given by movies viewers\n",
    "\n",
    "\n",
    "\n"
   ]
  },
  {
   "cell_type": "markdown",
   "id": "a6b87e81",
   "metadata": {},
   "source": [
    "<b>10. Describe the machine learning process in depth.\n",
    "\n",
    "<blockquote>a. Make brief notes on any two of the following:\n",
    "\n",
    "MATLAB is one of the most widely used programming languages.\n",
    "\n",
    "ii. Deep learning applications in healthcare\n",
    "\n",
    "iii. Study of the market basket\n",
    "\n",
    "iv. Linear regression (simple)\n",
    "</blockquote>\n",
    "</b>"
   ]
  },
  {
   "cell_type": "markdown",
   "id": "2f9dd51f",
   "metadata": {},
   "source": [
    "Ans: \n",
    "\n",
    "Imagine a dataset as a table, where the rows are each observation (aka measurement, data point, etc), and the columns for each observation represent the features of that observation and their values.\n",
    "\n",
    "At the outset of a machine learning project, a dataset is usually split into two or three subsets. The minimum subsets are the training and test datasets, and often an optional third validation dataset is created as well.\n",
    "\n",
    "Once these data subsets are created from the primary dataset, a predictive model or classifier is trained using the training data, and then the model’s predictive accuracy is determined using the test data.\n",
    "\n",
    "As mentioned, machine learning leverages algorithms to automatically model and find patterns in data, usually with the goal of predicting some target output or response. These algorithms are heavily based on statistics and mathematical optimization.\n",
    "\n",
    "Optimization is the process of finding the smallest or largest value (minima or maxima) of a function, often referred to as a loss, or cost function in the minimization case. One of the most popular optimization algorithms used in machine learning is called gradient descent, and another is known as the the normal equation.\n",
    "\n",
    "In a nutshell, machine learning is all about automatically learning a highly accurate predictive or classifier model, or finding unknown patterns in data, by leveraging learning algorithms and optimization techniques.\n",
    "\n",
    "\n",
    "\n",
    "\n",
    "a. Make brief notes on any two of the following:\n",
    "\n",
    "MATLAB is one of the most widely used programming languages.\n",
    "Ans: \n",
    "\n",
    "MATLAB is the easiest and most productive computing environment for engineers and scientists. It includes the MATLAB language, the only top programming language dedicated to mathematical and technical computing.\n",
    "\n",
    "\"With MATLAB, I can code and debug a new capability much faster than with other languages. Cutting our development time in half with MATLAB was instrumental in our ability to meet a tight timeline. Our customer was convinced that I’d worked 70 hours each week when he saw the results.\"\n",
    "\n",
    "ii. Deep learning applications in healthcare\n",
    "Ans: \n",
    "Drug discovery\n",
    "Deep learning in healthcare helps in discovery of medicines and their development. The technology analyzes the patient's medical history and provides the best treatment for them. Moreover, this technology is gaining insights from patient symptoms and tests.\n",
    "Medical imaging\n",
    "Medical imaging techniques such as MRI scans, CT scans, ECG, are used to diagnose dreadful diseases such as heart disease, cancer, brain tumor. Hence, deep learning helps doctors to analyze the disease better and provide patients with the best treatment.\n",
    "\n",
    "iii. Study of the market basket\n",
    "Ans: \n",
    "Market Basket Analysis(MBA) also known as association rule learning or affinity analysis, is a data mining technique that can be used in various fields, such as marketing, bioinformatics, education field, nuclear science etc. \n",
    "The existing algorithms work on static data and they do not capture changes in data with time.\n",
    "\n",
    "iv. Linear regression (simple)\n",
    "\n",
    "\n"
   ]
  },
  {
   "cell_type": "markdown",
   "id": "798e96c7",
   "metadata": {},
   "source": [
    "<b>11. Make a comparison between:-\n",
    "<blockquote>\n",
    "1. Generalization and abstraction\n",
    "\n",
    "2. Learning that is guided and unsupervised\n",
    "\n",
    "3. Regression and classification\n",
    "</blockquote>    \n",
    "</b>"
   ]
  },
  {
   "cell_type": "markdown",
   "id": "86db150b",
   "metadata": {},
   "source": [
    "1. Generalization and abstraction\n",
    "Ans: \n",
    "\n",
    "Abstraction is the process of removing details of objects. We step back from concrete objects to consider a number of objects with identical properties. So a concrete object can be looked at as a “superset” of a more abstract object.\n",
    "\n",
    "A generalization, then, is the formulation of general concepts from specific instances by abstracting common properties. A concrete object can be looked at as a “subset” of a more generalized object.\n",
    "\n",
    "\n",
    "In other words:\n",
    "\n",
    "For any two concepts A and B, A is an abstraction of B if and only if:\n",
    "Every instance of concept B is also an instance of concept A\n",
    "For any two concepts A and B, A is a generalization of B if and only if:\n",
    "Every instance of concept B is also an instance of concept A\n",
    "There are instances of concept A which are not instances of concept B\n",
    "\n",
    "2. Unsupervised learning is the branch of machine learning that is aimed at learning patterns from data without labels. Supervised learning with millions of labels for image classification had driven the modern deep learning revolution in the past few years. Deep neural networks have exceeded human performance at this specific task. But the requirement of such large amounts of labeled data for these models makes one skeptical about the generalization of such intelligence to myriad tasks.\n",
    " While training a neural network to classify images of a cat, one might wonder : \n",
    "3. Classification:\n",
    "Classification is a process of finding a function which helps in dividing the dataset into classes based on different parameters. In Classification, a computer program is trained on the training dataset and based on that training, it categorizes the data into different classes.\n",
    "\n",
    "The task of the classification algorithm is to find the mapping function to map the input(x) to the discrete output(y).\n",
    "\n",
    "Example: The best example to understand the Classification problem is Email Spam Detection. The model is trained on the basis of millions of emails on different parameters, and whenever it receives a new email, it identifies whether the email is spam or not. If the email is spam, then it is moved to the Spam folder.\n",
    "\n",
    "Regression:\n",
    "Regression is a process of finding the correlations between dependent and independent variables. It helps in predicting the continuous variables such as prediction of Market Trends, prediction of House prices, etc.\n",
    "\n",
    "The task of the Regression algorithm is to find the mapping function to map the input variable(x) to the continuous output variable(y).\n",
    "\n",
    "Example: Suppose we want to do weather forecasting, so for this, we will use the Regression algorithm. In weather prediction, the model is trained on the past data, and once the training is completed, it can easily predict the weather for future days."
   ]
  }
 ],
 "metadata": {
  "kernelspec": {
   "display_name": "Python 3",
   "language": "python",
   "name": "python3"
  },
  "language_info": {
   "codemirror_mode": {
    "name": "ipython",
    "version": 3
   },
   "file_extension": ".py",
   "mimetype": "text/x-python",
   "name": "python",
   "nbconvert_exporter": "python",
   "pygments_lexer": "ipython3",
   "version": "3.8.8"
  }
 },
 "nbformat": 4,
 "nbformat_minor": 5
}
