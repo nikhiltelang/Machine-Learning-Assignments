{
 "cells": [
  {
   "cell_type": "markdown",
   "id": "199c734c",
   "metadata": {},
   "source": [
    "<b>1. What is the concept of human learning? Please give two examples.</b>"
   ]
  },
  {
   "cell_type": "markdown",
   "id": "786c694e",
   "metadata": {},
   "source": [
    "Ans:Human learning is a process of acquiring knowledge. Our behavior, skills, values and ethics are acquired when we process information through our minds and learn. Human learning may occur as part of education, personal development or any other informal/formal training. Children learn while they play, experiment, and interact. However, the process of learning is a continuous process. We constantly learn, unlearn and relearn through our experiences. To express ideas, to inform people, to communicate, to create etc we need to learn.Learning is “a process that leads to change, \n",
    "which occurs as a result of experience and increases the potential for improved performance and future learning”\n"
   ]
  },
  {
   "cell_type": "markdown",
   "id": "4fa77d9c",
   "metadata": {},
   "source": [
    "<b>2. What different forms of human learning are there? Are there any machine learning equivalents?</b>"
   ]
  },
  {
   "cell_type": "markdown",
   "id": "d4a615af",
   "metadata": {},
   "source": [
    "Ans: In supervised learning, a computer program is given a training dataset that is labelled with corresponding output values, and a function will be determined based on this dataset (Kotsiantis et al., 2007)\n",
    "Supervised learning is similar to concept learning (Bruner & Austin, 1986), where a person is required to classify new objects into existing categories,\n",
    " by matching the features of the new objects to examples in the categories"
   ]
  },
  {
   "cell_type": "markdown",
   "id": "2b35b896",
   "metadata": {},
   "source": [
    "<b>3. What is machine learning, and how does it work? What are the key responsibilities of machine\n",
    "learning?</b>"
   ]
  },
  {
   "cell_type": "markdown",
   "id": "c36d96ef",
   "metadata": {},
   "source": [
    "Ans: Machine learning (ML) is a type of artificial intelligence (AI) that allows software applications to become more accurate at predicting outcomes without being explicitly programmed to do so.\n",
    " Machine learning algorithms use historical data as input to predict new output values."
   ]
  },
  {
   "cell_type": "markdown",
   "id": "f69a7a99",
   "metadata": {},
   "source": [
    "<b>4. Define the terms &quot;penalty&quot; and &quot;reward&quot; in the context of reinforcement learning.</b>"
   ]
  },
  {
   "cell_type": "markdown",
   "id": "251eebc6",
   "metadata": {},
   "source": [
    "Ans: A reinforcement learning algorithm, which may also be referred to as an agent, learns by interacting with its environment. The agent receives rewards by performing correctly and penalties for performing incorrectly.\n",
    " The agent learns without intervention from a human by maximizing its reward and minimizing its penalty.\n",
    "\n"
   ]
  },
  {
   "cell_type": "markdown",
   "id": "34fd6e06",
   "metadata": {},
   "source": [
    "<b>5. Explain the term &quot;learning as a search&quot;?</b>"
   ]
  },
  {
   "cell_type": "markdown",
   "id": "c35b0098",
   "metadata": {},
   "source": [
    "Ans: A Gentle Introduction to Applied Machine Learning as a Search Problem.\n",
    "The application of machine learning is best thought of as search problem for the best mapping of inputs to outputs given the knowledge and resources available to you for a given project."
   ]
  },
  {
   "cell_type": "markdown",
   "id": "b02b9a47",
   "metadata": {},
   "source": [
    "<b>6. What are the various goals of machine learning? What is the relationship between these and\n",
    "human learning?</b>"
   ]
  },
  {
   "cell_type": "code",
   "execution_count": null,
   "id": "3f0609c1",
   "metadata": {},
   "outputs": [],
   "source": [
    "Ans:Aim of Machine Learning\n",
    "Nowadays machine learning has two objectives, one is to classify data based on models which have been developed, \n",
    "the other purpose is to make predictions for future outcomes based on these models.\n",
    "\n"
   ]
  },
  {
   "cell_type": "markdown",
   "id": "18ce5569",
   "metadata": {},
   "source": [
    "<b>7. Illustrate the various elements of machine learning using a real-life illustration.</b>"
   ]
  },
  {
   "cell_type": "code",
   "execution_count": null,
   "id": "a067fcd8",
   "metadata": {},
   "outputs": [],
   "source": [
    "Ans: Image recognition is a well-known and widespread example of machine learning in the real world.\n",
    "It can identify an object as a digital image, based on the intensity of the pixels in black and white images or colour images.\n",
    "Real-world examples of speech recognition:\n",
    "\n",
    "Voice search\n",
    "Voice dialling\n",
    "Appliance control\n",
    " \n",
    "\n",
    "Real-world examples of image recognition:\n",
    "\n",
    "Label an x-ray as cancerous or not\n",
    "Assign a name to a photographed face (aka “tagging” on social media)\n",
    "Recognise handwriting by segmenting a single letter into smaller images\n",
    "Machine learning is also frequently used for facial recognition within an image. Using a database of people, the system can identify commonalities and match them to faces. This is often used in law enforcement.\n",
    "\n",
    "Real-world examples for medical diagnosis:\n",
    "\n",
    "Assisting in formulating a diagnosis or recommends a treatment option\n",
    "Oncology and pathology use machine learning to recognise cancerous tissue \n",
    "Analyse bodily fluids\n"
   ]
  },
  {
   "cell_type": "markdown",
   "id": "86109836",
   "metadata": {},
   "source": [
    "<b>8. Provide an example of the abstraction method.</b>"
   ]
  },
  {
   "cell_type": "code",
   "execution_count": null,
   "id": "9a1bb006",
   "metadata": {},
   "outputs": [],
   "source": [
    "Ans: from abc import ABC, abstractmethod   \n",
    "class Car(ABC):   \n",
    "    def mileage(self):   \n",
    "        pass  \n",
    "  \n",
    "class Tesla(Car):   \n",
    "    def mileage(self):   \n",
    "        print(\"The mileage is 30kmph\")   \n",
    "class Suzuki(Car):   \n",
    "    def mileage(self):   \n",
    "        print(\"The mileage is 25kmph \")   \n",
    "class Duster(Car):   \n",
    "     def mileage(self):   \n",
    "          print(\"The mileage is 24kmph \")   \n",
    "  \n",
    "class Renault(Car):   \n",
    "    def mileage(self):   \n",
    "            print(\"The mileage is 27kmph \")   \n",
    "          \n",
    "# Driver code   \n",
    "t= Tesla ()   \n",
    "t.mileage()   \n",
    "  \n",
    "r = Renault()   \n",
    "r.mileage()   \n",
    "  \n",
    "s = Suzuki()   \n",
    "s.mileage()   \n",
    "d = Duster()   \n",
    "d.mileage()  "
   ]
  },
  {
   "cell_type": "markdown",
   "id": "4d61391e",
   "metadata": {},
   "source": [
    "<b>9. What is the concept of generalization? What function does it play in the machine learning\n",
    "process?</b>"
   ]
  },
  {
   "cell_type": "markdown",
   "id": "984b27a5",
   "metadata": {},
   "source": [
    "Ans: In machine learning, generalization is a definition to demonstrate how well is a trained model to classify or forecast unseen data. Training a generalized machine learning model means,\n",
    " in general, it works for all subset of unseen data. An example is when we train a model to classify between dogs and cats.\n"
   ]
  },
  {
   "cell_type": "markdown",
   "id": "116ea18a",
   "metadata": {},
   "source": [
    "<b>10. What is classification, exactly? What are the main distinctions between classification and regression?</b>"
   ]
  },
  {
   "cell_type": "markdown",
   "id": "fe4dbb51",
   "metadata": {},
   "source": [
    "Ans: Classification is the task of predicting a discrete class label. Regression is the task of predicting a continuous quantity.\n"
   ]
  },
  {
   "cell_type": "markdown",
   "id": "8a2068d1",
   "metadata": {},
   "source": [
    "<b>11. What is regression, and how does it work? Give an example of a real-world problem that was\n",
    "solved using regression.</b>"
   ]
  },
  {
   "cell_type": "markdown",
   "id": "6b000ead",
   "metadata": {},
   "source": [
    "Ans: Regression is a statistical measurement that attempts to determine the strength of the relationship between one dependent variable (usually denoted by Y)\n",
    "Linear Regression works by using an independent variable to predict the values of dependent variable.\n",
    "The equation can be of the form: y = mx + b where y is the predicted value, m is the gradient of the line and b is the point at which the line strikes the y-axis\n"
   ]
  },
  {
   "cell_type": "markdown",
   "id": "d916f8b9",
   "metadata": {},
   "source": [
    "<b>12. Describe the clustering mechanism in detail.</b>"
   ]
  },
  {
   "cell_type": "markdown",
   "id": "2f501b7d",
   "metadata": {},
   "source": [
    "Ans: Clustering is the task of dividing the population or data points into a number of groups such that data points in the same groups are more similar to other data points in the same group than those in other groups.\n",
    " In simple words, the aim is to segregate groups with similar traits and assign them into clusters."
   ]
  },
  {
   "cell_type": "markdown",
   "id": "869eb910",
   "metadata": {},
   "source": [
    "<b>13. Make brief observations on two of the following topics:\n",
    "    <blockquote>\n",
    "        <p>i. Machine learning algorithms are used</p>\n",
    "        <p>ii. Studying under supervision</p>\n",
    "        <p>iii. Studying without supervision</p>\n",
    "        <p>iv. Reinforcement learning is a form of learning based on positive reinforcement.</p>\n",
    "        </blockquote>"
   ]
  },
  {
   "cell_type": "markdown",
   "id": "25aeff5e",
   "metadata": {},
   "source": [
    "i. Machine learning algorithms are used\n",
    "\n",
    "Ans:Naïve Bayes Classifier Algorithm (Supervised Learning - Classification):\n",
    "The Naïve Bayes classifier is based on Bayes’ theorem and classifies every value as independent of any other value. It allows us to predict a class/category, based on a given set of features, using probability.\n",
    "\n",
    "K Means Clustering Algorithm (Unsupervised Learning - Clustering):\n",
    "The K Means Clustering algorithm is a type of unsupervised learning, which is used to categorise unlabelled data, i.e. data without defined categories or groups. The algorithm works by finding groups within the data, with the number of groups represented by the variable K. \n",
    "It then works iteratively to assign each data point to one of K groups based on the features provided.\n",
    "\n",
    "Support Vector Machine Algorithm (Supervised Learning - Classification):\n",
    "Support Vector Machine algorithms are supervised learning models that analyse data used for classification and regression analysis. They essentially filter data into categories, which is achieved by providing a set of training examples, \n",
    "each set marked as belonging to one or the other of the two categories.\n",
    "\n",
    "Linear Regression (Supervised Learning/Regression):\n",
    "Linear regression is the most basic type of regression. Simple linear regression allows us to understand the relationships between two continuous variables. \n",
    "\n",
    "Logistic Regression (Supervised learning – Classification)\n",
    "Logistic regression focuses on estimating the probability of an event occurring based on the previous data provided. It is used to cover a binary dependent variable, that is where only two values, 0 and 1, represent outcomes.\n",
    "Decision Trees (Supervised Learning – Classification/Regression)\n",
    "A decision tree is a flow-chart-like tree structure that uses a branching method to illustrate every possible outcome of a decision. Each node within the tree represents a test on a specific variable – and each branch is the outcome of that test.\n",
    "\n",
    "\n",
    "iii. Studying without supervision\n",
    "\n",
    "Ans:\n",
    "Unsupervised learning is a type of machine learning in which the algorithm is not provided with any pre-assigned labels or scores for the training data. As a result, \n",
    "unsupervised learning algorithms must first self-discover any naturally occurring patterns in that training data set. \n",
    "\n",
    "\n",
    "iv. Reinforcement learning is a form of learning based on positive reinforcement.\n",
    "Ans: \n",
    "Reinforcement learning is a machine learning training method based on rewarding desired behaviors and/or punishing undesired ones. In general, a reinforcement learning agent is able to perceive and interpret its environment, take actions and learn through trial and error."
   ]
  }
 ],
 "metadata": {
  "kernelspec": {
   "display_name": "Python 3",
   "language": "python",
   "name": "python3"
  },
  "language_info": {
   "codemirror_mode": {
    "name": "ipython",
    "version": 3
   },
   "file_extension": ".py",
   "mimetype": "text/x-python",
   "name": "python",
   "nbconvert_exporter": "python",
   "pygments_lexer": "ipython3",
   "version": "3.8.8"
  }
 },
 "nbformat": 4,
 "nbformat_minor": 5
}
