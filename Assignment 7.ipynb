{
 "cells": [
  {
   "cell_type": "markdown",
   "id": "d3c19345",
   "metadata": {},
   "source": [
    "<b>1. What is the definition of a target function? In the sense of a real-life example, express the target function. How is a target function's fitness assessed?</b>"
   ]
  },
  {
   "cell_type": "markdown",
   "id": "4f17207e",
   "metadata": {},
   "source": [
    "Ans:A target function, in machine learning, is a method for solving a problem that an AI algorithm parses its training data to find. Once an algorithm finds its target function, that function can be used to predict results (predictive analysis). The function can then be used to find output data related to inputs for real problems where, unlike training sets, outputs are not included.\n",
    "\n",
    "The target function is essentially the formula that an algorithm feeds data to in order to calculate predictions. As in algebra, it is common when training AI to find the variable from the solution, working in reverse. The function as defined by f is applied to the input (I) to produce the output (I), Therefore O= f(I).\n",
    "\n"
   ]
  },
  {
   "cell_type": "markdown",
   "id": "6ea6d851",
   "metadata": {},
   "source": [
    "<b>2. What are predictive models, and how do they work? What are descriptive types, and how do you use them? Examples of both types of models should be provided. Distinguish between these two forms of models.\n",
    "</b>"
   ]
  },
  {
   "cell_type": "markdown",
   "id": "ca8a874e",
   "metadata": {},
   "source": [
    "Ans:\n",
    "Predictive Analytics: Understanding the future\n",
    "\n",
    "Predictive analytics has its roots in the ability to “predict” what might happen. These analytics are about understanding the future. Predictive analytics provides companies with actionable insights based on data. Predictive analytics provides estimates about the likelihood of a future outcome. It is important to remember that no statistical algorithm can “predict” the future with 100% certainty. Companies use these statistics to forecast what might happen in the future.\n",
    "This is because the foundation of predictive analytics is based on probabilities.\n"
   ]
  },
  {
   "cell_type": "markdown",
   "id": "bcc56bd4",
   "metadata": {},
   "source": [
    "<b>3. Describe the method of assessing a classification model's efficiency in detail. Describe the various measurement parameters.</b>"
   ]
  },
  {
   "cell_type": "markdown",
   "id": "f7d8f667",
   "metadata": {},
   "source": [
    "Ans: Classification is a supervised learning approach in which a target variable is discrete (or categorical). Evaluating a machine learning model is as important as building it. We are creating models to perform on new, previously unseen data. Hence, a thorough and versatile evaluation is required to create a robust model. When it comes to classification models, evaluation process gets somewhat tricky.\n",
    "In this post, I will try to provide a detailed guide on how to evaluate a classification model including a range of different metrics with their advantages and shortcomings.\n",
    "The concepts I will cover:\n",
    "Classification accuracy\n",
    "Confusion matrix\n",
    "Precision and recall\n",
    "F1 score\n",
    "Sensitivity and specificity\n",
    "ROC curve and AUC\n",
    "Classification Accuracy\n",
    "Classification accuracy shows how many of the predictions are correct.\n",
    "\n",
    "In some cases, it represents how good a model is but there are some cases in which accuracy is simply not enough. For example, 93% means that we correctly predicted 93 out of 100 samples. It seems acceptable without knowing the details of the task.\n",
    "Assume we are creating a model to perform binary classification on a dataset with an unbalanced class distribution. 93% of data points are in class A and 7% in class B.\n"
   ]
  },
  {
   "cell_type": "markdown",
   "id": "08fb9a98",
   "metadata": {},
   "source": [
    "<b>4. \n",
    "      i. In the sense of machine learning models, what is underfitting? What is the most common reason for underfitting?\n",
    " </b>"
   ]
  },
  {
   "cell_type": "markdown",
   "id": "8c3ba44e",
   "metadata": {},
   "source": [
    "ans:Underfitting is the case where the model has “ not learned enough” from the training data, resulting in low generalization and unreliable predictions.\n",
    "As you probably expected, underfitting (i.e. high bias) is just as bad for generalization of the model as overfitting. In high bias, the model might not have enough flexibility in terms of line fitting, resulting in a simplistic line that does not generalize well."
   ]
  },
  {
   "cell_type": "markdown",
   "id": "e71b3214",
   "metadata": {},
   "source": [
    "<b>5. Is it possible to boost the efficiency of a learning model? If so, please clarify how.</b>"
   ]
  },
  {
   "cell_type": "markdown",
   "id": "ba05e0a5",
   "metadata": {},
   "source": [
    "<b></b>"
   ]
  },
  {
   "cell_type": "markdown",
   "id": "8c95d288",
   "metadata": {},
   "source": [
    "<b>6. How would you rate an unsupervised learning model's success? What are the most common success indicators for an unsupervised learning model?</b>"
   ]
  },
  {
   "cell_type": "markdown",
   "id": "70e4b3b9",
   "metadata": {},
   "source": [
    "Ans: Feature Prediction Modeling: Referring back to my example regarding age and fitness scores, we can model the relationship between age and fitness scores and then use the model to find the expected fitness score for a given age. This can be done via several techniques, including regression, ANOVA, and more.\n",
    "K Nearest Neighbour Imputation: Using KNN imputation, the missing data is filled with a value from another similar sample, and for those who don’t know, the similarity in KNN is determined using a distance function (i.e., Euclidean distance).\n",
    "Deleting the row: Lastly, you can delete the row. This is not usually recommended, but it is acceptable when you have an immenseamount of data to start with.\n"
   ]
  },
  {
   "cell_type": "markdown",
   "id": "35657455",
   "metadata": {},
   "source": [
    "<b>7. Is it possible to use a classification model for numerical data or a regression model for categorical data with a classification model? Explain your answer.</b>"
   ]
  },
  {
   "cell_type": "markdown",
   "id": "d93e69aa",
   "metadata": {},
   "source": [
    "Ans:Difference Between Classification and Regression in Machine Learning\n",
    "\n",
    "\n",
    "There is an important difference between classification and regression problems.\n",
    "\n",
    "Fundamentally, classification is about predicting a label and regression is about predicting a quantity.\n",
    "\n",
    "I often see questions such as:\n",
    "\n",
    "How do I calculate accuracy for my regression problem?\n",
    "\n",
    "Questions like this are a symptom of not truly understanding the difference between classification and regression and what accuracy is trying to measure.\n",
    "\n",
    "In this tutorial, you will discover the differences between classification and regression.\n",
    "\n",
    "After completing this tutorial, you will know:\n",
    "\n",
    "That predictive modeling is about the problem of learning a mapping function from inputs to outputs called function approximation.\n",
    "That classification is the problem of predicting a discrete class label output for an example.\n",
    "That regression is the problem of predicting a continuous quantity output for an example.\n",
    "Let’s get started.\n",
    "\n",
    "Difference Between Classification and Regression in Machine Learning\n",
    "Difference Between Classification and Regression in Machine Learning\n",
    "Photo by thomas wilson, some rights reserved.\n",
    "\n",
    "Tutorial Overview\n",
    "This tutorial is divided into 5 parts; they are:\n",
    "\n",
    "Function Approximation\n",
    "Classification\n",
    "Regression\n",
    "Classification vs Regression\n",
    "Converting Between Classification and Regression Problems\n",
    "Function Approximation\n",
    "Predictive modeling is the problem of developing a model using historical data to make a prediction on new data where we do not have the answer.\n",
    "\n",
    "Predictive modeling can be described as the mathematical problem of approximating a mapping function (f) from input variables (X) to output variables (y). This is called the problem of function approximation.\n",
    "\n",
    "The job of the modeling algorithm is to find the best mapping function we can given the time and resources available.\n",
    "\n",
    "."
   ]
  },
  {
   "cell_type": "markdown",
   "id": "79823b9e",
   "metadata": {},
   "source": [
    "<b>8. Describe the predictive modeling method for numerical values. What distinguishes it from categorical predictive modeling?</b>"
   ]
  },
  {
   "cell_type": "markdown",
   "id": "931ae3d6",
   "metadata": {},
   "source": [
    "Ans:Predictive analytics tools are powered by several different models and algorithms that can be applied to wide range of use cases. Determining what predictive modeling techniques are best for your company is key to getting the most out of a predictive analytics solution and leveraging data to make insightful decisions.\n",
    "\n",
    "For example, consider a retailer looking to reduce customer churn. They might not be served by the same predictive analytics models used by a hospital predicting the volume of patients admitted to the emergency room in the next ten days.\n",
    "\n"
   ]
  },
  {
   "cell_type": "markdown",
   "id": "acd65735",
   "metadata": {},
   "source": [
    "<b>9. The following data were collected when using a classification model to predict the malignancy of a group of patients' tumors:</b>"
   ]
  },
  {
   "cell_type": "markdown",
   "id": "de57f408",
   "metadata": {},
   "source": [
    "<b></b>"
   ]
  },
  {
   "cell_type": "markdown",
   "id": "029b614c",
   "metadata": {},
   "source": [
    "<b>10. Make quick notes on:</b>"
   ]
  },
  {
   "cell_type": "markdown",
   "id": "4c3489ce",
   "metadata": {},
   "source": [
    "1. The process of holding out\n",
    "         Hold-out\n",
    "Hold-out is when you split up your dataset into a ‘train’ and ‘test’ set. The training set is what the model is trained on, and the test set is used to see how well that model performs on unseen data.\n",
    " A common split when using the hold-out method is using 80% of data for training and the remaining 20% of the data for testing\n",
    "         2. Cross-validation by tenfold\n",
    "         10-fold cross validation would perform the fitting procedure a total of ten times, with each fit being performed on a training set consisting of 90% of\n",
    "          the total training set selected at random, with the remaining 10% used as a hold out set for validation.\n",
    "         3. Adjusting the parameters\n",
    "         IMS Performance Analyzer helps you monitor key performance indicators. As a result, you might determine that you need to tune your IMS systems by adjusting startup parameters. You can use the search and locate facilities of IMS Configuration Manager to quickly find the relevant parameters.\n"
   ]
  },
  {
   "cell_type": "markdown",
   "id": "9a4052de",
   "metadata": {},
   "source": [
    "<b>11. Define the following terms: </b>"
   ]
  },
  {
   "cell_type": "markdown",
   "id": "1a70f4a4",
   "metadata": {},
   "source": [
    "1. Purity vs. Silhouette width\n",
    "         Clustering is defined as finding natural groups in the data. But this definition is inherently subjective.\n",
    "         2. Boosting vs. Bagging\n",
    "         In Boosting, every new subset comprises the elements that were misclassified by previous models. Bagging is usually applied where the classifier is unstable and has a high variance. Boosting is usually applied where the classifier is stable and simple and has high bias.\n",
    "         3. The eager learner vs. the lazy learner\n",
    "         A lazy learner delays abstracting from the data until it is asked to make a prediction while an eager learner abstracts away from the data during training and uses this abstraction to make predictions rather than directly compare queries with instances in the dataset."
   ]
  },
  {
   "cell_type": "markdown",
   "id": "df2e9d76",
   "metadata": {},
   "source": []
  }
 ],
 "metadata": {
  "kernelspec": {
   "display_name": "Python 3",
   "language": "python",
   "name": "python3"
  },
  "language_info": {
   "codemirror_mode": {
    "name": "ipython",
    "version": 3
   },
   "file_extension": ".py",
   "mimetype": "text/x-python",
   "name": "python",
   "nbconvert_exporter": "python",
   "pygments_lexer": "ipython3",
   "version": "3.8.8"
  }
 },
 "nbformat": 4,
 "nbformat_minor": 5
}
