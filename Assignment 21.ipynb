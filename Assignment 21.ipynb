{
 "cells": [
  {
   "cell_type": "markdown",
   "id": "ebc3c055",
   "metadata": {},
   "source": [
    "<b>1. What is the estimated depth of a Decision Tree trained (unrestricted) on a one million instance training set?</b>"
   ]
  },
  {
   "cell_type": "markdown",
   "id": "fe7077d6",
   "metadata": {},
   "source": [
    "Ans: \n",
    "What is the approximate depth of a Decision Tree trained (without restrictions) on a training set with 1 million instances? (106) ≈ 20 (actually a bit more since the tree will generally not be perfectly well balanced)."
   ]
  },
  {
   "cell_type": "markdown",
   "id": "4495c2cf",
   "metadata": {},
   "source": [
    "<b>2. Is the Gini impurity of a node usually lower or higher than that of its parent? Is it always lower/greater, or is it usually lower/greater?</b>"
   ]
  },
  {
   "cell_type": "markdown",
   "id": "21a12a68",
   "metadata": {},
   "source": [
    "Ans:\n",
    "Does the Gini Impurity of a node lower or greater than that of its parent. ... A node's Gini impurity is generally lower than that of its parent as the CART training \n",
    "algorithm cost function splits each of the nodes in a way that minimizes the weighted sum of its children's Gini impurities.\n"
   ]
  },
  {
   "cell_type": "markdown",
   "id": "5c0e61fd",
   "metadata": {},
   "source": [
    "<b>3. Explain if its a good idea to reduce max depth if a Decision Tree is overfitting the training set?</b>"
   ]
  },
  {
   "cell_type": "markdown",
   "id": "3f1d4e17",
   "metadata": {},
   "source": [
    "Ans: \n",
    " If a Decision Tree is overfitting the training set, it may be a good idea to decrease max_depth, since this will constrain the model, regularizing it."
   ]
  },
  {
   "cell_type": "markdown",
   "id": "1a5b7a83",
   "metadata": {},
   "source": [
    "<b>4. Explain if its a  good idea to try scaling the input features if a Decision Tree underfits the training set?</b>"
   ]
  },
  {
   "cell_type": "markdown",
   "id": "b95e73c6",
   "metadata": {},
   "source": [
    "Ans: \n",
    "Decision Trees don't care whether or not the training data is scaled or centered; scaling the input features will just be a waste of time.\n"
   ]
  },
  {
   "cell_type": "markdown",
   "id": "0532dee2",
   "metadata": {},
   "source": [
    "<b>5. How much time will it take to train another Decision Tree on a training set of 10 million instances if it takes an hour to train a Decision Tree on a training set with 1 million instances?</b>"
   ]
  },
  {
   "cell_type": "markdown",
   "id": "76f6a073",
   "metadata": {},
   "source": [
    "Ans: \n",
    "So, when we multiplied the size of the training set by 10, then the training time will be multiplied by some factor, say K. For 10 million instances \n",
    "i.e., m = 106, then we get the value of K ≈ 11.7. Therefore, we can expect the training time to be roughly 11.7 hours.\n"
   ]
  },
  {
   "cell_type": "markdown",
   "id": "b81f9dc8",
   "metadata": {},
   "source": [
    "<b>6. Will setting presort=True speed up training if your training set has 100,000 instances?</b>"
   ]
  },
  {
   "cell_type": "markdown",
   "id": "1779c03a",
   "metadata": {},
   "source": [
    "Ans: \n",
    "Presorting the training set speeds up training only if the dataset is smaller than a few thousand instances. If it contains 100,000 instances, setting presort=True will considerably slow down training.\n"
   ]
  },
  {
   "cell_type": "markdown",
   "id": "b311fcfc",
   "metadata": {},
   "source": [
    "<b>7. Follow these steps to train and fine-tune a Decision Tree for the moons dataset:</b>"
   ]
  },
  {
   "cell_type": "markdown",
   "id": "ea974126",
   "metadata": {},
   "source": [
    "a. To build a moons dataset, use make moons(n samples=10000, noise=0.4).\n",
    "\n",
    "b. Divide the dataset into a training and a test collection with train test split().\n",
    "\n",
    "c. To find good hyperparameters values for a DecisionTreeClassifier, use grid search with cross-validation (with the GridSearchCV class). Try different values for max leaf nodes.\n",
    "\n",
    "d. Use these hyperparameters to train the model on the entire training set, and then assess its output on the test set. You can achieve an accuracy of 85 to 87 percent.\n"
   ]
  },
  {
   "cell_type": "markdown",
   "id": "2d6fc0e9",
   "metadata": {},
   "source": [
    "<b>8. Follow these steps to grow a forest:</b>"
   ]
  },
  {
   "cell_type": "markdown",
   "id": "a86b188d",
   "metadata": {},
   "source": [
    "\n",
    "         a. Using the same method as before, create 1,000 subsets of the training set, each containing 100 instances chosen at random. You can do this with Scikit-ShuffleSplit Learn's class.\n",
    "\n",
    "          b. Using the best hyperparameter values found in the previous exercise, train one Decision Tree on each subset. On the test collection, evaluate these 1,000 Decision Trees. These Decision        Trees would likely perform worse than the first Decision Tree, achieving only around 80% accuracy, since they were trained on smaller sets.\n",
    "\n",
    "         c. Now the magic begins. Create 1,000 Decision Tree predictions for each test set case, and keep only the most common prediction (you can do this with SciPy's mode() function). Over the test collection, this method gives you majority-vote predictions.\n",
    "\n",
    "         d. On the test range, evaluate these predictions: you should achieve a slightly higher accuracy than the first model (approx 0.5 to 1.5 percent higher). You've successfully learned a Random Forest classifier!"
   ]
  }
 ],
 "metadata": {
  "kernelspec": {
   "display_name": "Python 3",
   "language": "python",
   "name": "python3"
  },
  "language_info": {
   "codemirror_mode": {
    "name": "ipython",
    "version": 3
   },
   "file_extension": ".py",
   "mimetype": "text/x-python",
   "name": "python",
   "nbconvert_exporter": "python",
   "pygments_lexer": "ipython3",
   "version": "3.8.8"
  }
 },
 "nbformat": 4,
 "nbformat_minor": 5
}
